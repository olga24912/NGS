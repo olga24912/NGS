{
 "cells": [
  {
   "cell_type": "markdown",
   "metadata": {},
   "source": [
    "# Bowtie2"
   ]
  },
  {
   "cell_type": "markdown",
   "metadata": {},
   "source": [
    "## 0. Разбораться с Bowtie2 \n",
    "Построить индекс, запустить Bowtie2 на тестовых данных, определить процент приложившихся ридов. "
   ]
  },
  {
   "cell_type": "code",
   "execution_count": null,
   "metadata": {},
   "outputs": [],
   "source": [
    "! bowtie2-build /Johnny/students/NGS/data/4/E.coli/MG1655-K12.first10K.fasta ecoli10K"
   ]
  },
  {
   "cell_type": "code",
   "execution_count": 3,
   "metadata": {},
   "outputs": [
    {
     "name": "stdout",
     "output_type": "stream",
     "text": [
      "28160 reads; of these:\r\n",
      "  28160 (100.00%) were paired; of these:\r\n",
      "    0 (0.00%) aligned concordantly 0 times\r\n",
      "    28160 (100.00%) aligned concordantly exactly 1 time\r\n",
      "    0 (0.00%) aligned concordantly >1 times\r\n",
      "    ----\r\n",
      "    0 pairs aligned concordantly 0 times; of these:\r\n",
      "      0 (0.00%) aligned discordantly 1 time\r\n",
      "    ----\r\n",
      "    0 pairs aligned 0 times concordantly or discordantly; of these:\r\n",
      "      0 mates make up the pairs; of these:\r\n",
      "        0 (0.00%) aligned 0 times\r\n",
      "        0 (0.00%) aligned exactly 1 time\r\n",
      "        0 (0.00%) aligned >1 times\r\n",
      "100.00% overall alignment rate\r\n"
     ]
    }
   ],
   "source": [
    "! bowtie2 --fr -x ecoli10K -1 /Johnny/students/NGS/data/4/E.coli/test_1.fastq -2 /Johnny/students/NGS/data/4/E.coli/test_2.fastq > test.sam"
   ]
  },
  {
   "cell_type": "code",
   "execution_count": null,
   "metadata": {},
   "outputs": [],
   "source": [
    "! bowtie2-build /Johnny/students/NGS/data/4/E.coli/MG1655-K12.fasta ecoli"
   ]
  },
  {
   "cell_type": "code",
   "execution_count": 2,
   "metadata": {},
   "outputs": [
    {
     "name": "stdout",
     "output_type": "stream",
     "text": [
      "14196256 reads; of these:\r\n",
      "  14196256 (100.00%) were paired; of these:\r\n",
      "    1356988 (9.56%) aligned concordantly 0 times\r\n",
      "    12398883 (87.34%) aligned concordantly exactly 1 time\r\n",
      "    440385 (3.10%) aligned concordantly >1 times\r\n",
      "    ----\r\n",
      "    1356988 pairs aligned concordantly 0 times; of these:\r\n",
      "      538532 (39.69%) aligned discordantly 1 time\r\n",
      "    ----\r\n",
      "    818456 pairs aligned 0 times concordantly or discordantly; of these:\r\n",
      "      1636912 mates make up the pairs; of these:\r\n",
      "        1288294 (78.70%) aligned 0 times\r\n",
      "        297803 (18.19%) aligned exactly 1 time\r\n",
      "        50815 (3.10%) aligned >1 times\r\n",
      "95.46% overall alignment rate\r\n"
     ]
    }
   ],
   "source": [
    "! bowtie2 --fr -x ecoli -1 /Johnny/students/NGS/data/4/E.coli/ecoli_mda_lane1_left.fastq.00.cor.fastq -2 /Johnny/students/NGS/data/4/E.coli/ecoli_mda_lane1_right.fastq.00.cor.fastq > ecoli_mda.sam"
   ]
  },
  {
   "cell_type": "code",
   "execution_count": 4,
   "metadata": {},
   "outputs": [
    {
     "name": "stdout",
     "output_type": "stream",
     "text": [
      "14214324 reads; of these:\r\n",
      "  14214324 (100.00%) were paired; of these:\r\n",
      "    121344 (0.85%) aligned concordantly 0 times\r\n",
      "    13720474 (96.53%) aligned concordantly exactly 1 time\r\n",
      "    372506 (2.62%) aligned concordantly >1 times\r\n",
      "    ----\r\n",
      "    121344 pairs aligned concordantly 0 times; of these:\r\n",
      "      3368 (2.78%) aligned discordantly 1 time\r\n",
      "    ----\r\n",
      "    117976 pairs aligned 0 times concordantly or discordantly; of these:\r\n",
      "      235952 mates make up the pairs; of these:\r\n",
      "        144142 (61.09%) aligned 0 times\r\n",
      "        86107 (36.49%) aligned exactly 1 time\r\n",
      "        5703 (2.42%) aligned >1 times\r\n",
      "99.49% overall alignment rate\r\n"
     ]
    }
   ],
   "source": [
    "! bowtie2 --fr -x ecoli -1 /Johnny/students/NGS/data/4/E.coli/s_6_1.fastq -2 /Johnny/students/NGS/data/4/E.coli/s_6_2.fastq > s6.sam"
   ]
  },
  {
   "cell_type": "markdown",
   "metadata": {},
   "source": [
    "## 1. Покрытие генома.\n",
    "По SAM файлу построить график покрытия генома, определить среднее покрытие и долю покрытой области генома. Покрытие одной позиции в геноме есть количество ридов, приложившихся так, что их концы находятся по разные стороны от этой позиции. График можно строить усредняя, например, по 1000 нуклеотидов. Доля покрытой области генома определяется как процент нуклеотидов с ненулевым покрытием по отношению ко всей длине генома."
   ]
  },
  {
   "cell_type": "markdown",
   "metadata": {},
   "source": [
    "getCover принимает путь до sam файла и возвращает список, где для каждой позиции указано количество, покрывающих эту позицию ридов. Что бы узнать ответ, перебираем все риды, прибавляем 1 при открытие рида, вычаем при закрытие и считаем сумму на префиксе. "
   ]
  },
  {
   "cell_type": "code",
   "execution_count": 8,
   "metadata": {},
   "outputs": [],
   "source": [
    "import pysam\n",
    "\n",
    "def getCover(filename):\n",
    "    samfile = pysam.AlignmentFile(filename, \"r\")\n",
    "    reflen = samfile.header.get(\"SQ\")[0]['LN']\n",
    "    \n",
    "    cover = [0]*(reflen + 1)\n",
    "    \n",
    "    for record in samfile.fetch():\n",
    "        if not record.is_unmapped:\n",
    "            rpos = record.reference_start\n",
    "            rlen = record.reference_length\n",
    "            cover[rpos] += 1\n",
    "            cover[rpos + rlen] -= 1\n",
    "    \n",
    "    for i in range(1, reflen):\n",
    "        cover[i] += cover[i - 1]\n",
    "    return cover"
   ]
  },
  {
   "cell_type": "code",
   "execution_count": 13,
   "metadata": {},
   "outputs": [],
   "source": [
    "import matplotlib.pyplot as plt\n",
    "%matplotlib inline  \n",
    "\n",
    "def showCover(filename):\n",
    "    cover = getCover(filename)\n",
    "    print(\"Average coverage: \" + str(sum(cover)/len(cover)))\n",
    "    print(\"Coverage rate: \" + str((len(cover) - cover.count(0))/len(cover)))\n",
    "    avcover = [0]*(len(cover)//1000 + 1)\n",
    "    x = [i for i in range(0, len(cover), 1000)]\n",
    "    for i in range(len(cover)):\n",
    "        avcover[i//1000] += cover[i]\n",
    "    for i in range(len(avcover) - 1):\n",
    "        avcover[i] /= 1000\n",
    "    avcover = avcover[:-1]\n",
    "    x = x[:len(avcover)]\n",
    "    \n",
    "    plt.plot(x, avcover)\n",
    "    plt.axis([0, (len(cover)//1000 - 1)*1000, 0, max(avcover)])\n",
    "    plt.xlabel('coord')\n",
    "    plt.ylabel('Coverage')\n",
    "    plt.title(filename)\n",
    "    plt.show()"
   ]
  },
  {
   "cell_type": "code",
   "execution_count": 6,
   "metadata": {},
   "outputs": [
    {
     "name": "stdout",
     "output_type": "stream",
     "text": [
      "Average coverage: 508.9247075292471\n",
      "Coverage rate: 1.0\n"
     ]
    },
    {
     "data": {
      "image/png": "[encoded data removed]",
      "text/plain": [
       "<matplotlib.figure.Figure at 0x7f6ff7f608d0>"
      ]
     },
     "metadata": {},
     "output_type": "display_data"
    }
   ],
   "source": [
    "showCover(\"test.sam\")"
   ]
  },
  {
   "cell_type": "code",
   "execution_count": 14,
   "metadata": {},
   "outputs": [
    {
     "name": "stdout",
     "output_type": "stream",
     "text": [
      "Average coverage: 523.5052051048392\n",
      "Coverage rate: 0.9802602595526066\n"
     ]
    },
    {
     "data": {
      "image/png": "[encoded data removed]",
      "text/plain": [
       "<matplotlib.figure.Figure at 0x7f1c20e373c8>"
      ]
     },
     "metadata": {},
     "output_type": "display_data"
    }
   ],
   "source": [
    "showCover(\"ecoli_mda.sam\")"
   ]
  },
  {
   "cell_type": "markdown",
   "metadata": {},
   "source": [
    "Выглядит так, как будто эти риды были получены из одной клетки. "
   ]
  },
  {
   "cell_type": "code",
   "execution_count": 15,
   "metadata": {},
   "outputs": [
    {
     "name": "stdout",
     "output_type": "stream",
     "text": [
      "Average coverage: 609.594759634078\n",
      "Coverage rate: 1.0\n"
     ]
    },
    {
     "data": {
      "image/png": "[encoded data removed]",
      "text/plain": [
       "<matplotlib.figure.Figure at 0x7f1c500e1f98>"
      ]
     },
     "metadata": {},
     "output_type": "display_data"
    }
   ],
   "source": [
    "showCover(\"s6.sam\")"
   ]
  },
  {
   "cell_type": "code",
   "execution_count": null,
   "metadata": {},
   "outputs": [],
   "source": [
    "А здесь много клеток. Хорошее и равномерное покрытие. "
   ]
  },
  {
   "cell_type": "markdown",
   "metadata": {},
   "source": [
    "## 2. Распределение расстояния вставки.\n",
    "\n",
    "По SAM файлу построить график распределения расстояния вставки, определить среднее расстояние вставки, среднеквадратичное отклонение и интервал минимальной ширины, в который попадает 95% ридов. На графике по оси Х должно быть расстояние вставки, по оси Y — количество ридов в заданным расстоянием вставки."
   ]
  },
  {
   "cell_type": "code",
   "execution_count": 19,
   "metadata": {},
   "outputs": [],
   "source": [
    "def getInsertSize(filename):\n",
    "    samfile = pysam.AlignmentFile(filename, \"r\")\n",
    "    insertSize = []\n",
    "    \n",
    "    for record in samfile.fetch():\n",
    "        if ((not record.is_unmapped) and record.is_paired and record.is_read1):\n",
    "            rpos = record.reference_start\n",
    "            rlen = record.reference_length\n",
    "    \n",
    "            npos = record.next_reference_start\n",
    "            if (npos > (rpos + rlen)):\n",
    "                insertSize.append(npos - (rpos + rlen))\n",
    "    return insertSize"
   ]
  },
  {
   "cell_type": "code",
   "execution_count": 32,
   "metadata": {},
   "outputs": [],
   "source": [
    "import matplotlib as mpl\n",
    "import matplotlib.pyplot as plt\n",
    "%matplotlib inline  \n",
    "import numpy as np\n",
    "\n",
    "def showInsertSize(filename):\n",
    "    insertSize = getInsertSize(filename)\n",
    "    npis = np.array(insertSize)\n",
    "    print(\"Average insert size: \" + str(np.mean(npis)))\n",
    "    print(\"SD insert size: \" + str(np.std(npis)))\n",
    "    insertSize.sort()\n",
    "    bbg = 0\n",
    "    cntElem = int(0.95*len(insertSize))\n",
    "    for bg in range(int(len(insertSize) - 0.95*len(insertSize))):\n",
    "        if ((insertSize[bg + cntElem] - insertSize[bg]) < insertSize[bbg + cntElem] - insertSize[bbg]):\n",
    "            bbg = bg\n",
    "    print(\"95% seq: \" + str(insertSize[bbg]) + \"-\" + str(insertSize[bbg + cntElem]))\n",
    "    \n",
    "    lst = 0\n",
    "    mx = np.mean(npis) + np.std(npis)**0.5\n",
    "    for i in range(int(len(insertSize))):\n",
    "        if (insertSize[i] < mx):\n",
    "            lst = i\n",
    "    \n",
    "    insertSize = insertSize[:lst]\n",
    "                   \n",
    "    num_bins = 50\n",
    "    fig, ax = plt.subplots()\n",
    "    n, bins, patches = ax.hist(insertSize, num_bins)\n",
    "    \n",
    "    ax.set_xlabel('Insert size')\n",
    "    ax.set_ylabel('Reads number')\n",
    "    ax.set_title(filename)\n",
    "    ax.set_xlim([0, np.mean(npis) + np.std(npis)**0.5])\n",
    "    \n",
    "    fig.tight_layout()\n",
    "    #mpl.rcParams['figure.figsize'] = (100,100)\n",
    "    plt.show()"
   ]
  },
  {
   "cell_type": "code",
   "execution_count": 34,
   "metadata": {},
   "outputs": [
    {
     "name": "stdout",
     "output_type": "stream",
     "text": [
      "Average insert size: 35.9313761468\n",
      "SD insert size: 26.2584205269\n",
      "95% seq: 1-89\n"
     ]
    },
    {
     "data": {
      "image/png": "[encoded data removed]",
      "text/plain": [
       "<matplotlib.figure.Figure at 0x7f6fe8470d68>"
      ]
     },
     "metadata": {},
     "output_type": "display_data"
    }
   ],
   "source": [
    "showInsertSize(\"test.sam\")"
   ]
  },
  {
   "cell_type": "code",
   "execution_count": 33,
   "metadata": {},
   "outputs": [
    {
     "name": "stdout",
     "output_type": "stream",
     "text": [
      "Average insert size: 26544.0512728\n",
      "SD insert size: 226241.24428\n",
      "95% seq: 1-188\n"
     ]
    },
    {
     "data": {
      "image/png": "[encoded data removed]",
      "text/plain": [
       "<matplotlib.figure.Figure at 0x7f1c28216240>"
      ]
     },
     "metadata": {},
     "output_type": "display_data"
    }
   ],
   "source": [
    "showInsertSize(\"ecoli_mda.sam\")"
   ]
  },
  {
   "cell_type": "code",
   "execution_count": 34,
   "metadata": {},
   "outputs": [
    {
     "name": "stdout",
     "output_type": "stream",
     "text": [
      "Average insert size: 418.854978921\n",
      "SD insert size: 32732.9156273\n",
      "95% seq: 1-32\n"
     ]
    },
    {
     "data": {
      "image/png": "[encoded data removed]",
      "text/plain": [
       "<matplotlib.figure.Figure at 0x7f1c20a35c18>"
      ]
     },
     "metadata": {},
     "output_type": "display_data"
    }
   ],
   "source": [
    "showInsertSize(\"s6.sam\")"
   ]
  },
  {
   "cell_type": "markdown",
   "metadata": {},
   "source": [
    "Какое-то расстояние вставки очень мелкое получается. Это странно... "
   ]
  },
  {
   "cell_type": "markdown",
   "metadata": {},
   "source": [
    "## 3. Частоты различных замен\n",
    "Построить матрицу частот замен:\n",
    "\n",
    "| Read\\Reference | A | C | G | T |\n",
    "|----------------|---|---|---|---|\n",
    "| A              | 0 | 0 | 0 | 0 |\n",
    "| C              | 0 | 0 | 0 | 0 |\n",
    "| G              | 0 | 0 | 0 | 0 |\n",
    "| T              | 0 | 0 | 0 | 0 |\n",
    "\n",
    "\n",
    "Так, в ячейке (А,С) должно стоять количество ошибок замены С на А (С в референсе, А в риде)."
   ]
  },
  {
   "cell_type": "code",
   "execution_count": 54,
   "metadata": {},
   "outputs": [],
   "source": [
    "from Bio import SeqIO\n",
    "\n",
    "def getLetId(c, isrv):\n",
    "    #print(c)\n",
    "    let = [\"ACGTN\", \"TGCAN\"]\n",
    "    for i in range(5):\n",
    "        if (let[isrv][i] == c):\n",
    "            return i\n",
    "        \n",
    "def getReplacementMatrix(reffilename, samfilename):\n",
    "    for rec in SeqIO.parse(reffilename, \"fasta\"): \n",
    "        ref = rec.seq \n",
    "    \n",
    "    samfile = pysam.AlignmentFile(samfilename, \"r\")\n",
    "    res = [[0]*5 for i in range(5)]\n",
    "    let = \"ACGTN\"\n",
    "    \n",
    "    for record in samfile.fetch():\n",
    "        if record.is_unmapped:\n",
    "            continue\n",
    "        cigar = record.cigartuples\n",
    "        rpos = record.reference_start\n",
    "        seq = record.query_sequence\n",
    "        spos = 0\n",
    "        for i in range(len(cigar)):\n",
    "            if (cigar[i][0] == 0 or cigar[i][0] == 7 or cigar[i][0] == 8):\n",
    "                cntl = cigar[i][1]\n",
    "                isrv = 0#record.is_reverse\n",
    "                for j in range(cntl):\n",
    "                    res[getLetId(seq[spos + j], isrv)][getLetId(ref[rpos + j], 0)] += 1\n",
    "                rpos += cigar[i][1]\n",
    "                spos += cigar[i][1]\n",
    "            elif (cigar[i][0] == 1 or cigar[i][0] == 4):\n",
    "                spos += cigar[i][1]\n",
    "            elif (cigar[i][0] == 2 or cigar[i][0] == 3):\n",
    "                rpos += cigar[i][1]\n",
    "    samfile.close()\n",
    "    res = res[:4]\n",
    "    for i in range(4):\n",
    "        res[i] = res[i][:4]\n",
    "    return res  "
   ]
  },
  {
   "cell_type": "code",
   "execution_count": 51,
   "metadata": {},
   "outputs": [
    {
     "name": "stdout",
     "output_type": "stream",
     "text": [
      "         A        C        G        T\n",
      "A  1273179        0        0        0\n",
      "C       15  1265932       22        1\n",
      "G       20        2  1366979       17\n",
      "T        1        2       34  1183555\n"
     ]
    }
   ],
   "source": [
    "import pandas as pd\n",
    "\n",
    "res = getReplacementMatrix(\"/Johnny/students/NGS/data/4/E.coli/MG1655-K12.first10K.fasta\", \"test.sam\")\n",
    "\n",
    "df = pd.DataFrame(data=res, columns=['A', 'C', 'G', 'T'], index=['A', 'C', 'G', 'T'])\n",
    "print(df)\n",
    "    "
   ]
  },
  {
   "cell_type": "code",
   "execution_count": 55,
   "metadata": {},
   "outputs": [
    {
     "name": "stdout",
     "output_type": "stream",
     "text": [
      "           A          C          G          T\n",
      "A  622315496     298873     211233     245857\n",
      "C     477135  596714022     239574     349332\n",
      "G     355494     240886  586981296     476972\n",
      "T     247200     220802     298382  616765304\n"
     ]
    }
   ],
   "source": [
    "res = getReplacementMatrix(\"/Johnny/students/NGS/data/4/E.coli/MG1655-K12.fasta\", \"ecoli_mda.sam\")\n",
    "df = pd.DataFrame(data=res, columns=['A', 'C', 'G', 'T'], index=['A', 'C', 'G', 'T'])\n",
    "print(df)"
   ]
  },
  {
   "cell_type": "code",
   "execution_count": 56,
   "metadata": {},
   "outputs": [
    {
     "name": "stdout",
     "output_type": "stream",
     "text": [
      "           A          C          G          T\n",
      "A  688065788    3123636    2022728    1876081\n",
      "C    6271801  705288580    3588515    4280292\n",
      "G    4307414    3590942  703389803    6261041\n",
      "T    1868360    2001216    3125767  687363464\n"
     ]
    }
   ],
   "source": [
    "res = getReplacementMatrix(\"/Johnny/students/NGS/data/4/E.coli/MG1655-K12.fasta\", \"s6.sam\")\n",
    "\n",
    "df = pd.DataFrame(data=res, columns=['A', 'C', 'G', 'T'], index=['A', 'C', 'G', 'T'])\n",
    "print(df)"
   ]
  },
  {
   "cell_type": "markdown",
   "metadata": {},
   "source": [
    "Из хорошего, здесь само собой получается что частота замен с->A такая же как G->T условно. То есть если заменить буковки на комплементарные, то частота сама собой будет примерно такая же. Это хорошо. А в остальном как-то не очень логично. То есть мне не понятно, почему замена C->A(G->T) такая популярная, мне кажется было бы логичнее если бы Пурины заменялись на Пурины, а Пиримидины на пирамидины, но нет. Причем популярность замен во всех случаях примерно сохраняется. "
   ]
  }
 ],
 "metadata": {
  "kernelspec": {
   "display_name": "Python 3",
   "language": "python",
   "name": "python3"
  },
  "language_info": {
   "codemirror_mode": {
    "name": "ipython",
    "version": 3
   },
   "file_extension": ".py",
   "mimetype": "text/x-python",
   "name": "python",
   "nbconvert_exporter": "python",
   "pygments_lexer": "ipython3",
   "version": "3.6.3"
  }
 },
 "nbformat": 4,
 "nbformat_minor": 2
}

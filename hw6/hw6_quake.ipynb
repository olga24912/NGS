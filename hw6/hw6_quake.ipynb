{
 "cells": [
  {
   "cell_type": "markdown",
   "metadata": {},
   "source": [
    "# QUAKE"
   ]
  },
  {
   "cell_type": "markdown",
   "metadata": {},
   "source": [
    "## 1.  Оценка качества работы Quake"
   ]
  },
  {
   "cell_type": "markdown",
   "metadata": {},
   "source": [
    "Исправление ридов с помощью Quake"
   ]
  },
  {
   "cell_type": "code",
   "execution_count": 23,
   "metadata": {},
   "outputs": [
    {
     "name": "stdout",
     "output_type": "stream",
     "text": [
      "Usage: quake.py [options]\r\n",
      "\r\n",
      "Options:\r\n",
      "  -h, --help        show this help message and exit\r\n",
      "  -r READSF         Fastq file of reads\r\n",
      "  -f READS_LISTF    File containing fastq file names, one per line or two per\r\n",
      "                    line for paired end reads.\r\n",
      "  -k K              Size of k-mers to correct\r\n",
      "  -p PROC           Number of processes [default: 4]\r\n",
      "  -q QUALITY_SCALE  Quality value ascii scale, generally 64 or 33. If not\r\n",
      "                    specified, it will guess.\r\n",
      "  --no_count        Kmers are already counted and in expected file [reads\r\n",
      "                    file].qcts or [reads file].cts [default: False]\r\n",
      "  --no_cut          Coverage model is optimized and cutoff was printed to\r\n",
      "                    expected file cutoff.txt [default: False]\r\n",
      "  --int             Kmers were counted as integers w/o the use of quality\r\n",
      "                    values [default: False]\r\n",
      "  --ratio=RATIO     Likelihood ratio to set trusted/untrusted cutoff.\r\n",
      "                    Generally set between 10-1000 with lower numbers\r\n",
      "                    suggesting a lower threshold. [default: 200]\r\n"
     ]
    }
   ],
   "source": [
    "! python2 /Johnny/students/NGS/data/6/Quake/bin/quake.py correct -h"
   ]
  },
  {
   "cell_type": "code",
   "execution_count": 4,
   "metadata": {
    "scrolled": true
   },
   "outputs": [
    {
     "name": "stdout",
     "output_type": "stream",
     "text": [
      "Guessing quality values are on ascii 33 scale\n",
      "Processing sequences...\n",
      "..2763204 sequences processed, 276320400 bp scanned\n",
      "WARNING: Input had 560786 non-DNA (ACGT) characters whose kmers were not counted\n",
      "7167988 total distinct mers\n",
      "7167988 mers occur at least 0 times\n",
      "initial  value 43342.925353 \n",
      "iter  10 value 36964.156085\n",
      "iter  20 value 34572.732523\n",
      "iter  30 value 34353.327472\n",
      "iter  40 value 33674.460444\n",
      "iter  50 value 33653.583779\n",
      "iter  60 value 33571.016252\n",
      "iter  70 value 33520.531491\n",
      "iter  80 value 33513.192688\n",
      "iter  90 value 33508.255598\n",
      "iter 100 value 33441.237694\n",
      "iter 110 value 33407.173027\n",
      "iter 120 value 33402.812959\n",
      "iter 130 value 33400.796830\n",
      "iter 140 value 33398.160523\n",
      "iter 150 value 33396.469849\n",
      "iter 160 value 33391.483544\n",
      "iter 170 value 33389.770428\n",
      "iter 180 value 33388.349378\n",
      "iter 190 value 33387.104623\n",
      "iter 200 value 33386.150163\n",
      "iter 210 value 33383.247571\n",
      "iter 220 value 33382.092360\n",
      "iter 230 value 33379.993314\n",
      "iter 240 value 33373.526364\n",
      "final  value 33372.997786 \n",
      "converged\n",
      "value: 33373 \n",
      "$zp.copy\n",
      "[1] 3.133766\n",
      "\n",
      "$p.e\n",
      "[1] 0.9441405\n",
      "\n",
      "$shape.e\n",
      "[1] 0.2921205\n",
      "\n",
      "$scale.e\n",
      "[1] 2.365194\n",
      "\n",
      "$u.v\n",
      "[1] 434.1486\n",
      "\n",
      "$var.v\n",
      "[1] 5691.477\n",
      "\n",
      "801164 trusted kmers\n",
      "AT% = 0.481124\n",
      "ecoli_400K_err_1.fastq\n",
      "Hidden temporary directory .ecoli_400K_err_1.fastq already exists and will be used\n",
      "ecoli_400K_err_2.fastq\n"
     ]
    }
   ],
   "source": [
    "! python2 /Johnny/students/NGS/data/6/Quake/bin/quake.py -f reads_files -k 15"
   ]
  },
  {
   "cell_type": "markdown",
   "metadata": {},
   "source": [
    "Выранивание ридов на геном. "
   ]
  },
  {
   "cell_type": "code",
   "execution_count": null,
   "metadata": {},
   "outputs": [],
   "source": [
    "! bwa index /Johnny/students/NGS/data/6/MG1655-K12.first400K.fasta -p ./MG"
   ]
  },
  {
   "cell_type": "code",
   "execution_count": null,
   "metadata": {
    "scrolled": false
   },
   "outputs": [],
   "source": [
    "! bwa mem MG /Johnny/students/NGS/data/6/ecoli_400K_err_1.fastq /Johnny/students/NGS/data/6/ecoli_400K_err_2.fastq > MG_err.sam"
   ]
  },
  {
   "cell_type": "code",
   "execution_count": null,
   "metadata": {},
   "outputs": [],
   "source": [
    "! bwa mem MG ecoli_400K_err_1.cor.fastq ecoli_400K_err_2.cor.fastq > MG_cor.sam"
   ]
  },
  {
   "cell_type": "markdown",
   "metadata": {},
   "source": [
    "Подсчет False positives, False negatives, True negatives для конкретного рида. \n",
    "\n",
    "Смотрим куда выравнились оба рида. Если в разные места или не выравнились, то не берем риды в расчет.\n",
    "\n",
    "Проходим по всем элементам. Если два нуклеотида выравнились в одно и тоже места, то взависимотси от того, кто из них правильный увеличиваем нужное значение. \n",
    "\n",
    "Если оба нуклеотида не выравнились, то засчитывем как ошибка для обоих, если не выравнился один из нуклеотидов то только ошибка для того, кто не выравнился. \n",
    "\n",
    "Если нуклеотид из референса не выравнился хотя бы на одну из последовательностей, то выравнивание с данным нуклеотидом в расчет не берем. "
   ]
  },
  {
   "cell_type": "code",
   "execution_count": 15,
   "metadata": {},
   "outputs": [],
   "source": [
    "import pysam\n",
    "import matplotlib.pyplot as plt\n",
    "%matplotlib inline\n",
    "from Bio import SeqIO\n",
    "import pandas as pd"
   ]
  },
  {
   "cell_type": "code",
   "execution_count": 42,
   "metadata": {},
   "outputs": [],
   "source": [
    "def calculateStatistic(record1, record2, ref):\n",
    "    if record1.is_unmapped or record2.is_unmapped:\n",
    "        return (0, 0, 0)\n",
    "    if record1.reference_start != record2.reference_start:\n",
    "        return (0, 0, 0)\n",
    "    \n",
    "    FP = 0\n",
    "    FN = 0\n",
    "    TN = 0\n",
    "        \n",
    "    cigar1 = record1.cigartuples\n",
    "    cigar2 = record2.cigartuples\n",
    "    rpos = record1.reference_start\n",
    "    seq1 = record1.query_sequence\n",
    "    seq2 = record2.query_sequence\n",
    "    spos1 = 0\n",
    "    spos2 = 0\n",
    "    ci1 = 0\n",
    "    ci2 = 0\n",
    "    cnt1 = 0\n",
    "    cnt2 = 0\n",
    "    while (ci1 < len(cigar1)) or (ci2 < len(cigar2)):\n",
    "        if (ci1 < len(cigar1) and (cigar1[ci1][0] == 0 or cigar1[ci1][0] == 7 or cigar1[ci1][0] == 8)) and (ci2 < len(cigar2) and (cigar2[ci2][0] == 0 or cigar2[ci2][0] == 7 or cigar2[ci2][0] == 8)):\n",
    "            if (seq1[spos1] == ref[rpos]) and (seq2[spos2] != ref[rpos]):\n",
    "                FN += 1\n",
    "            elif (seq1[spos1] != ref[rpos]) and (seq2[spos2] == ref[rpos]):\n",
    "                TN += 1\n",
    "            elif (seq1[spos1] != ref[rpos]) and (seq2[spos2] != ref[rpos]):\n",
    "                FP += 1\n",
    "            cnt1 += 1\n",
    "            cnt2 += 1\n",
    "            rpos += 1\n",
    "            spos1 += 1\n",
    "            spos2 += 1\n",
    "        elif (ci1 < len(cigar1) and (cigar1[ci1][0] == 1 or cigar1[ci1][0] == 4)) and  ((ci2 < len(cigar2)) and (cigar2[ci2][0] == 1 or cigar2[ci2][0] == 4)):\n",
    "            FP += 1\n",
    "            cnt1 += 1\n",
    "            cnt2 += 1\n",
    "            spos1 += 1\n",
    "            spos2 += 1\n",
    "        elif (ci1 < len(cigar1) and (cigar1[ci1][0] == 1 or cigar1[ci1][0] == 4)):\n",
    "            TN += 1\n",
    "            cnt1 += 1\n",
    "            spos1 += 1\n",
    "        elif (ci2 < len(cigar2) and (cigar2[ci2][0] == 1 or cigar2[ci2][0] == 4)):\n",
    "            FN += 1\n",
    "            cnt2 += 1\n",
    "            spos2 += 1\n",
    "        else:\n",
    "            if (ci1 < len(cigar1) and (cigar1[ci1][0] == 0 or cigar1[ci1][0] == 7 or cigar1[ci1][0] == 8)):\n",
    "                spos1 += 1\n",
    "            if (ci2 < len(cigar2) and (cigar2[ci2][0] == 0 or cigar2[ci2][0] == 7 or cigar2[ci2][0] == 8)):\n",
    "                spos2 += 1\n",
    "            if (ci1 < len(cigar1)):\n",
    "                cnt1 += 1\n",
    "            if (ci2 < len(cigar2)):\n",
    "                cnt2 += 1\n",
    "            rpos += 1\n",
    "            \n",
    "        if (ci1 < len(cigar1) and cnt1 == cigar1[ci1][1]):\n",
    "            cnt1 = 0\n",
    "            ci1 += 1\n",
    "        if (ci2 < len(cigar2) and cnt2 == cigar2[ci2][1]):\n",
    "            cnt2 = 0\n",
    "            ci2 += 1\n",
    "    return (FP, FN, TN)\n",
    "    "
   ]
  },
  {
   "cell_type": "code",
   "execution_count": 45,
   "metadata": {},
   "outputs": [],
   "source": [
    "def main(refFileName, oldFileName, newFileName):\n",
    "    ref = \"\"\n",
    "    for rec in SeqIO.parse(refFileName, \"fasta\"):\n",
    "        ref = rec.seq\n",
    "    oldSamFile = pysam.AlignmentFile(oldFileName, \"r\")\n",
    "    newSamFile = pysam.AlignmentFile(newFileName, \"r\")\n",
    "    \n",
    "    FP = 0\n",
    "    FN = 0\n",
    "    TN = 0\n",
    "    iter1 = oldSamFile.fetch()\n",
    "    cnt = 0\n",
    "    for record2 in newSamFile.fetch():\n",
    "        if (cnt % 10000 == 0):\n",
    "            print(cnt, record2.query_name)\n",
    "        record1 = next(iter1)\n",
    "        while (record1.query_name != record2.query_name):\n",
    "            record1 = next(iter1)\n",
    "        cFP, cFN, cTP = calculateStatistic(record1, record2, ref)\n",
    "        FP += cFP\n",
    "        FN += cFN\n",
    "        TN += cTP\n",
    "        cnt += 1\n",
    "    \n",
    "    print(\"False positives =\", FP, \" False negatives =\", FN, \" True negatives =\", TN )\n",
    "    return (FP, FN, TN)"
   ]
  },
  {
   "cell_type": "code",
   "execution_count": null,
   "metadata": {},
   "outputs": [],
   "source": [
    "FP, FN, TN = main(\"/Johnny/students/NGS/data/6/MG1655-K12.first400K.fasta\", \"MG_err.sam\", \"MG_cor.sam\")"
   ]
  },
  {
   "cell_type": "code",
   "execution_count": 47,
   "metadata": {},
   "outputs": [
    {
     "name": "stdout",
     "output_type": "stream",
     "text": [
      "False positives = 70817  False negatives = 109  True negatives = 607796\n"
     ]
    }
   ],
   "source": [
    "print(\"False positives =\", FP, \" False negatives =\", FN, \" True negatives =\", TN )"
   ]
  },
  {
   "cell_type": "code",
   "execution_count": null,
   "metadata": {},
   "outputs": [],
   "source": []
  }
 ],
 "metadata": {
  "kernelspec": {
   "display_name": "Python 3",
   "language": "python",
   "name": "python3"
  },
  "language_info": {
   "codemirror_mode": {
    "name": "ipython",
    "version": 3
   },
   "file_extension": ".py",
   "mimetype": "text/x-python",
   "name": "python",
   "nbconvert_exporter": "python",
   "pygments_lexer": "ipython3",
   "version": "3.6.3"
  }
 },
 "nbformat": 4,
 "nbformat_minor": 2
}

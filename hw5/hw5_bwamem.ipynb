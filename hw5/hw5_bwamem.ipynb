{
 "cells": [
  {
   "cell_type": "markdown",
   "metadata": {},
   "source": [
    "# BWA"
   ]
  },
  {
   "cell_type": "code",
   "execution_count": 17,
   "metadata": {},
   "outputs": [],
   "source": [
    "import pysam\n",
    "import matplotlib.pyplot as plt\n",
    "%matplotlib inline\n",
    "from Bio import SeqIO\n",
    "import pandas as pd\n",
    "import math "
   ]
  },
  {
   "cell_type": "markdown",
   "metadata": {},
   "source": [
    "Покрытие генома (график, процент покрытого генома, среднее покрытие)"
   ]
  },
  {
   "cell_type": "code",
   "execution_count": 4,
   "metadata": {},
   "outputs": [],
   "source": [
    "def updateCover(record, cover):\n",
    "    if not record.is_unmapped:\n",
    "            rpos = record.reference_start\n",
    "            rlen = record.reference_length\n",
    "            cover[rpos] += 1\n",
    "            cover[rpos + rlen] -= 1"
   ]
  },
  {
   "cell_type": "code",
   "execution_count": 5,
   "metadata": {},
   "outputs": [],
   "source": [
    "def showCover(cover):\n",
    "    print(\"Average coverage: \" + str(sum(cover)/len(cover)))\n",
    "    print(\"Coverage rate: \" + str((len(cover) - cover.count(0))/len(cover)))\n",
    "    avcover = [0]*(len(cover)//1000 + 1)\n",
    "    x = [i for i in range(0, len(cover), 1000)]\n",
    "    for i in range(len(cover)):\n",
    "        avcover[i//1000] += cover[i]\n",
    "    for i in range(len(avcover) - 1):\n",
    "        avcover[i] /= 1000\n",
    "    avcover = avcover[:-1]\n",
    "    x = x[:len(avcover)]\n",
    "    \n",
    "    plt.plot(x, avcover)\n",
    "    plt.axis([0, (len(cover)//1000 - 1)*1000, 0, max(avcover)])\n",
    "    plt.xlabel('coord')\n",
    "    plt.ylabel('Coverage')\n",
    "    plt.show()"
   ]
  },
  {
   "cell_type": "markdown",
   "metadata": {},
   "source": [
    "Статистика длин инделов."
   ]
  },
  {
   "cell_type": "code",
   "execution_count": 28,
   "metadata": {},
   "outputs": [],
   "source": [
    "def updateInDelLen(record, indelLensHist):\n",
    "    if record.is_unmapped:\n",
    "            return\n",
    "    cigar = record.cigartuples\n",
    "    for i in range(len(cigar)):\n",
    "            if (cigar[i][0] == 1): \n",
    "                if (cigar[i][1] + 10 < 20):\n",
    "                    indelLensHist[10 + cigar[i][1]] += 1\n",
    "            if (cigar[i][0] == 2):\n",
    "                if (10 - cigar[i][1] >= 0):\n",
    "                    indelLensHist[10 - cigar[i][1]] += 1\n",
    "                "
   ]
  },
  {
   "cell_type": "markdown",
   "metadata": {},
   "source": [
    "Статистика длин инделов в завимости от длины гомополимерного участка (участок состоящий из одного типа нуклеотидов, например АААААААА). Мы фиксируем длину гомополимерного участка (пусть 5bp), и находим все гомополимеры такой длины в референсе. Дальше смотрим как участки этой длины прочитались секвенатором. Смотрим сколько раз прочиталось 3bp, 4bp, 5bp, 6bp и итд. Повторяем это для гомополимеров всех длин (например, от 3 до 20).\n"
   ]
  },
  {
   "cell_type": "code",
   "execution_count": 7,
   "metadata": {},
   "outputs": [],
   "source": [
    "def calculateRefHomopol(ref, refHom):\n",
    "    afterCnt = [1]*len(ref)\n",
    "    for i in range(1, len(ref)):\n",
    "        if (ref[i] == ref[i - 1]):\n",
    "            refHom[i] = refHom[i - 1] + 1\n",
    "    for i in range(len(ref) - 2, 0, -1):\n",
    "        if (ref[i + 1] == ref[i]):\n",
    "            afterCnt[i] += afterCnt[i + 1]\n",
    "    for i in range(len(ref)):\n",
    "        refHom[i] += afterCnt[i]"
   ]
  },
  {
   "cell_type": "code",
   "execution_count": 8,
   "metadata": {},
   "outputs": [],
   "source": [
    "def updateInDelHomopol(record, ref, refHom, inDelHomLenHist):\n",
    "    if record.is_unmapped:\n",
    "        return\n",
    "    cigar = record.cigartuples\n",
    "    rpos = record.reference_start\n",
    "    seq = record.query_sequence\n",
    "    seqHom = [0]*len(seq)\n",
    "    calculateRefHomopol(seq, seqHom)\n",
    "    spos = 0\n",
    "    mxSeqHom = 1\n",
    "    \n",
    "    for i in range(len(cigar)):\n",
    "        if (cigar[i][0] == 0 or cigar[i][0] == 7 or cigar[i][0] == 8):\n",
    "            cntl = cigar[i][1]\n",
    "            for j in range(cntl):\n",
    "                if (ref[rpos + j - 1] != ref[rpos + j]):\n",
    "                    if (refHom[rpos + j - 1] < 20 and mxSeqHom < 20):\n",
    "                        inDelHomLenHist[refHom[rpos + j - 1]][mxSeqHom] += 1\n",
    "                    mxSeqHom = 0\n",
    "                mxSeqHom = max(mxSeqHom, seqHom[spos + j])\n",
    "            rpos += cigar[i][1]\n",
    "            spos += cigar[i][1]\n",
    "        elif (cigar[i][0] == 1 or cigar[i][0] == 4):\n",
    "            spos += cigar[i][1]\n",
    "        elif (cigar[i][0] == 2 or cigar[i][0] == 3):\n",
    "            cntl = cigar[i][1]\n",
    "            for j in range(cntl):\n",
    "                if (ref[rpos + j - 1] != ref[rpos + j]):\n",
    "                    if (refHom[rpos + j - 1] < 20 and mxSeqHom < 20):\n",
    "                        inDelHomLenHist[refHom[rpos + j - 1]][mxSeqHom] += 1\n",
    "                    mxSeqHom = 0\n",
    "            rpos += cigar[i][1]\n",
    "    if (refHom[rpos - 1] < 20 and mxSeqHom < 20):\n",
    "        inDelHomLenHist[refHom[rpos - 1]][mxSeqHom] += 1\n",
    "                "
   ]
  },
  {
   "cell_type": "markdown",
   "metadata": {},
   "source": [
    "Статистика качества нуклеотидов при ошибочно вставленном нуклеотиде"
   ]
  },
  {
   "cell_type": "code",
   "execution_count": 9,
   "metadata": {},
   "outputs": [],
   "source": [
    "def updateQualityInsert(alig_record, read_record, qualityInsertStatistic):\n",
    "    if alig_record.is_unmapped:\n",
    "            return\n",
    "    readpos = 0\n",
    "    cigar = alig_record.cigartuples\n",
    "    for i in range(len(cigar)):\n",
    "        if (cigar[i][0] == 0 or cigar[i][0] == 7 or cigar[i][0] == 8):\n",
    "            readpos += cigar[i][1]\n",
    "        elif (cigar[i][0] == 1 or cigar[i][0] == 4):\n",
    "            for j in range(cigar[i][1]):\n",
    "                qualityInsertStatistic[read_record.letter_annotations[\"phred_quality\"][readpos + j]] += 1\n",
    "            readpos += cigar[i][1]\n",
    "    "
   ]
  },
  {
   "cell_type": "markdown",
   "metadata": {},
   "source": [
    "Статистика качества нуклеотидов при замене\n"
   ]
  },
  {
   "cell_type": "code",
   "execution_count": 10,
   "metadata": {},
   "outputs": [],
   "source": [
    "def updateQualityMis(alig_record, read_record, ref, qualityMisStatistic):\n",
    "    if alig_record.is_unmapped:\n",
    "            return\n",
    "    readpos = 0\n",
    "    cigar = alig_record.cigartuples\n",
    "    rpos = alig_record.reference_start\n",
    "    seq = alig_record.query_sequence\n",
    "    for i in range(len(cigar)):\n",
    "        if (cigar[i][0] == 0 or cigar[i][0] == 8 or cigar[i][0] == 7):\n",
    "            cntl = cigar[i][1]\n",
    "            for j in range(cntl):\n",
    "                if (seq[readpos + j] != ref[rpos + j]):\n",
    "                    qualityMisStatistic[read_record.letter_annotations[\"phred_quality\"][readpos + j]] += 1\n",
    "            readpos += cigar[i][1]\n",
    "            rpos += cigar[i][1]\n",
    "        elif (cigar[i][0] == 1 or cigar[i][0] == 4):\n",
    "            readpos += cigar[i][1]\n",
    "        elif (cigar[i][0] == 2 or cigar[i][0] == 3):\n",
    "            rpos += cigar[i][1] "
   ]
  },
  {
   "cell_type": "markdown",
   "metadata": {},
   "source": [
    "Таблица частот замен/вставок/удалений"
   ]
  },
  {
   "cell_type": "code",
   "execution_count": 11,
   "metadata": {},
   "outputs": [],
   "source": [
    "def getLetId(c, isrv):\n",
    "    #print(c)\n",
    "    let = [\"ACGTN\", \"TGCAN\"]\n",
    "    for i in range(5):\n",
    "        if (let[isrv][i] == c):\n",
    "            return i\n",
    "\n",
    "def updateReplaceMatrix(record, ref, rmat):\n",
    "        let = \"ACGTN\"\n",
    "        if record.is_unmapped:\n",
    "            return\n",
    "        \n",
    "        cigar = record.cigartuples\n",
    "        rpos = record.reference_start\n",
    "        seq = record.query_sequence\n",
    "        spos = 0\n",
    "        for i in range(len(cigar)):\n",
    "            if (cigar[i][0] == 0 or cigar[i][0] == 7 or cigar[i][0] == 8):\n",
    "                cntl = cigar[i][1]\n",
    "                isrv = 0#record.is_reverse\n",
    "                for j in range(cntl):\n",
    "                    rmat[getLetId(seq[spos + j], isrv)][getLetId(ref[rpos + j], 0)] += 1\n",
    "                rpos += cigar[i][1]\n",
    "                spos += cigar[i][1]\n",
    "            elif (cigar[i][0] == 1 or cigar[i][0] == 4):\n",
    "                cntl = cigar[i][1]\n",
    "                for j in range(cntl):\n",
    "                    rmat[getLetId(seq[spos + j], 0)][4] += 1\n",
    "                spos += cigar[i][1]\n",
    "            elif (cigar[i][0] == 2 or cigar[i][0] == 3):\n",
    "                cntl = cigar[i][1]\n",
    "                for j in range(cntl):\n",
    "                    rmat[4][getLetId(ref[rpos + j], 0)] += 1\n",
    "                rpos += cigar[i][1]\n",
    "\n",
    "def drawMatrix(matrix):\n",
    "    df = pd.DataFrame(data=matrix, columns=['A', 'C', 'G', 'T', 'N'], index=['A', 'C', 'G', 'T', 'N'])\n",
    "    print(df)"
   ]
  },
  {
   "cell_type": "markdown",
   "metadata": {},
   "source": [
    "Подсчет статистик для ридов"
   ]
  },
  {
   "cell_type": "code",
   "execution_count": 29,
   "metadata": {},
   "outputs": [],
   "source": [
    "def calculateStatistic(filename, reffilename, readsfilename):\n",
    "    for rec in SeqIO.parse(reffilename, \"fasta\"): \n",
    "        ref = rec.seq \n",
    "    \n",
    "    record_dict = SeqIO.to_dict(SeqIO.parse(readsfilename, \"fastq\"))\n",
    "    \n",
    "    samfile = pysam.AlignmentFile(filename, \"r\")\n",
    "    reflen = samfile.header.get(\"SQ\")[0]['LN']\n",
    "    \n",
    "    cover = [0]*(reflen + 1)\n",
    "    replaceMatrix = [[0]*5 for i in range(5)]\n",
    "    inDelHomLenHist = [[0]*20 for i in range(20)]\n",
    "    indelLensHist = [0]*20\n",
    "    qualityInsertStatistic = [0]*66\n",
    "    qualityMisStatistic = [0]*66\n",
    "    refHom = [0]*len(ref)\n",
    "    calculateRefHomopol(ref, refHom)\n",
    "    \n",
    "    for record in samfile.fetch():\n",
    "        updateCover(record, cover)\n",
    "        updateReplaceMatrix(record, ref, replaceMatrix)\n",
    "        updateInDelLen(record, indelLensHist)\n",
    "        updateQualityInsert(record, record_dict[record.query_name], qualityInsertStatistic)\n",
    "        updateQualityMis(record, record_dict[record.query_name], ref, qualityMisStatistic)\n",
    "        updateInDelHomopol(record, ref, refHom, inDelHomLenHist)\n",
    "        \n",
    "    for i in range(1, reflen):\n",
    "        cover[i] += cover[i - 1]\n",
    "    return cover, replaceMatrix, indelLensHist, qualityInsertStatistic, qualityMisStatistic, inDelHomLenHist"
   ]
  },
  {
   "cell_type": "code",
   "execution_count": 13,
   "metadata": {},
   "outputs": [],
   "source": [
    "def showStatistic(hist, xlabel, ylabel):\n",
    "    xs = [i for i in range(0, len(hist))]\n",
    "    \n",
    "    plt.plot(xs, hist, 'bo')\n",
    "    plt.xlabel(xlabel)\n",
    "    plt.ylabel(ylabel)\n",
    "    plt.show() "
   ]
  },
  {
   "cell_type": "markdown",
   "metadata": {},
   "source": [
    "## 1.  BWA"
   ]
  },
  {
   "cell_type": "code",
   "execution_count": 14,
   "metadata": {},
   "outputs": [
    {
     "name": "stdout",
     "output_type": "stream",
     "text": [
      "[bwa_index] Pack FASTA... 0.11 sec\n",
      "[bwa_index] Construct BWT for the packed sequence...\n",
      "[bwa_index] 3.55 seconds elapse.\n",
      "[bwa_index] Update BWT... 0.04 sec\n",
      "[bwa_index] Pack forward-only FASTA... 0.05 sec\n",
      "[bwa_index] Construct SA from BWT and Occ... 1.26 sec\n",
      "[main] Version: 0.7.15-r1140\n",
      "[main] CMD: bwa index -p ./DH10B-K12 /Johnny/students/NGS/data/5/DH10B-K12.fasta\n",
      "[main] Real time: 6.766 sec; CPU: 5.020 sec\n"
     ]
    }
   ],
   "source": [
    "! bwa index /Johnny/students/NGS/data/5/DH10B-K12.fasta -p ./DH10B-K12"
   ]
  },
  {
   "cell_type": "code",
   "execution_count": 16,
   "metadata": {},
   "outputs": [
    {
     "name": "stdout",
     "output_type": "stream",
     "text": [
      "[M::bwa_idx_load_from_disk] read 0 ALT contigs\n",
      "[M::process] read 30580 sequences (10000589 bp)...\n",
      "[M::process] read 30700 sequences (10000499 bp)...\n",
      "[M::mem_process_seqs] Processed 30580 reads in 13.596 CPU sec, 13.562 real sec\n",
      "[M::process] read 30654 sequences (10000464 bp)...\n",
      "[M::mem_process_seqs] Processed 30700 reads in 14.908 CPU sec, 14.768 real sec\n",
      "[M::process] read 30558 sequences (10000069 bp)...\n",
      "[M::mem_process_seqs] Processed 30654 reads in 15.584 CPU sec, 15.406 real sec\n",
      "[M::process] read 30468 sequences (10000148 bp)...\n",
      "[M::mem_process_seqs] Processed 30558 reads in 12.048 CPU sec, 11.885 real sec\n",
      "[M::process] read 30596 sequences (10000413 bp)...\n",
      "[M::mem_process_seqs] Processed 30468 reads in 12.620 CPU sec, 12.468 real sec\n",
      "[M::process] read 30514 sequences (10000381 bp)...\n",
      "[M::mem_process_seqs] Processed 30596 reads in 13.904 CPU sec, 13.841 real sec\n",
      "[M::process] read 30520 sequences (10000266 bp)...\n",
      "[M::mem_process_seqs] Processed 30514 reads in 12.356 CPU sec, 12.231 real sec\n",
      "[M::process] read 30396 sequences (10000010 bp)...\n",
      "[M::mem_process_seqs] Processed 30520 reads in 13.600 CPU sec, 13.519 real sec\n",
      "[M::process] read 30478 sequences (10000118 bp)...\n",
      "[M::mem_process_seqs] Processed 30396 reads in 12.844 CPU sec, 12.757 real sec\n",
      "[M::process] read 30562 sequences (10000033 bp)...\n",
      "[M::mem_process_seqs] Processed 30478 reads in 16.108 CPU sec, 15.998 real sec\n",
      "[M::process] read 30576 sequences (10000499 bp)...\n",
      "[M::mem_process_seqs] Processed 30562 reads in 13.224 CPU sec, 13.186 real sec\n",
      "[M::process] read 30436 sequences (10000698 bp)...\n",
      "[M::mem_process_seqs] Processed 30576 reads in 12.548 CPU sec, 12.419 real sec\n",
      "[M::process] read 30768 sequences (10000324 bp)...\n",
      "[M::mem_process_seqs] Processed 30436 reads in 13.352 CPU sec, 13.247 real sec\n",
      "[M::process] read 30638 sequences (10000103 bp)...\n",
      "[M::mem_process_seqs] Processed 30768 reads in 13.404 CPU sec, 13.271 real sec\n",
      "[M::process] read 30718 sequences (10000240 bp)...\n",
      "[M::mem_process_seqs] Processed 30638 reads in 15.060 CPU sec, 14.987 real sec\n",
      "[M::process] read 5759 sequences (1147709 bp)...\n",
      "[M::mem_process_seqs] Processed 30718 reads in 12.616 CPU sec, 12.646 real sec\n",
      "[M::mem_process_seqs] Processed 5759 reads in 1.388 CPU sec, 1.316 real sec\n",
      "[main] Version: 0.7.15-r1140\n",
      "[main] CMD: bwa mem DH10B-K12 /Johnny/students/NGS/data/5/B22-730.fastq\n",
      "[main] Real time: 218.055 sec; CPU: 219.456 sec\n"
     ]
    }
   ],
   "source": [
    "! bwa mem DH10B-K12 /Johnny/students/NGS/data/5/B22-730.fastq > bwa_B22-730.sam"
   ]
  },
  {
   "cell_type": "code",
   "execution_count": 30,
   "metadata": {},
   "outputs": [],
   "source": [
    "cover, replaceMatrix, indelLensHist, qualityInsertStatistic, qualityMisStatistic, inDelHomLenHist = calculateStatistic(\"bwa_B22-730.sam\", \"/Johnny/students/NGS/data/5/DH10B-K12.fasta\", \"/Johnny/students/NGS/data/5/B22-730.fastq\")"
   ]
  },
  {
   "cell_type": "code",
   "execution_count": 32,
   "metadata": {},
   "outputs": [
    {
     "name": "stdout",
     "output_type": "stream",
     "text": [
      "[0, 0, 3, 10, 23, 76, 277, 1403, 18865, 340196, 0, 449394, 28183, 2948, 837, 328, 203, 124, 91, 54]\n"
     ]
    }
   ],
   "source": [
    "from math import *\n",
    "\n",
    "print(indelLensHist)\n",
    "for i in range(0, len(indelLensHist)):\n",
    "    if (indelLensHist[i] > 0):\n",
    "        indelLensHist[i] = log2(indelLensHist[i])"
   ]
  },
  {
   "cell_type": "markdown",
   "metadata": {},
   "source": [
    "#### Покрытие генома"
   ]
  },
  {
   "cell_type": "code",
   "execution_count": 22,
   "metadata": {
    "scrolled": true
   },
   "outputs": [
    {
     "name": "stdout",
     "output_type": "stream",
     "text": [
      "Average coverage: 34.034596505694026\n",
      "Coverage rate: 0.9998798584249973\n"
     ]
    },
    {
     "data": {
      "image/png": "[encoded data removed]",
      "text/plain": [
       "<matplotlib.figure.Figure at 0x7f6d6a2a75f8>"
      ]
     },
     "metadata": {},
     "output_type": "display_data"
    }
   ],
   "source": [
    "showCover(cover)"
   ]
  },
  {
   "cell_type": "markdown",
   "metadata": {},
   "source": [
    "#### Таблица частот замен/вставок/удалений"
   ]
  },
  {
   "cell_type": "code",
   "execution_count": 35,
   "metadata": {
    "scrolled": true
   },
   "outputs": [
    {
     "name": "stdout",
     "output_type": "stream",
     "text": [
      "          A         C         G         T       N\n",
      "A  40038583     10360     17215     11325  590244\n",
      "C      9147  39493809      7209     24493  442044\n",
      "G     23657      8092  39405410      9060  440955\n",
      "T     11173     16671     10563  40010171  591824\n",
      "N    119254     72479     72804    119372       0\n"
     ]
    }
   ],
   "source": [
    "drawMatrix(replaceMatrix)"
   ]
  },
  {
   "cell_type": "markdown",
   "metadata": {},
   "source": [
    "#### Статистика длин инделов"
   ]
  },
  {
   "cell_type": "code",
   "execution_count": 33,
   "metadata": {
    "scrolled": true
   },
   "outputs": [
    {
     "data": {
      "image/png": "[encoded data removed]",
      "text/plain": [
       "<matplotlib.figure.Figure at 0x7ff406a6e6d8>"
      ]
     },
     "metadata": {},
     "output_type": "display_data"
    }
   ],
   "source": [
    "xs = [i for i in range(-10, 10)]\n",
    "    \n",
    "plt.plot(xs, indelLensHist, 'bo')\n",
    "plt.xlabel('indel LEN')\n",
    "plt.ylabel('indel cnt')\n",
    "plt.show() "
   ]
  },
  {
   "cell_type": "markdown",
   "metadata": {},
   "source": [
    "#### Статистика качества нуклеотидов при ошибки вставке нуклеотидов. "
   ]
  },
  {
   "cell_type": "code",
   "execution_count": 25,
   "metadata": {
    "scrolled": true
   },
   "outputs": [
    {
     "data": {
      "image/png": "[encoded data removed]",
      "text/plain": [
       "<matplotlib.figure.Figure at 0x7f6cfe74af60>"
      ]
     },
     "metadata": {},
     "output_type": "display_data"
    }
   ],
   "source": [
    "showStatistic(qualityInsertStatistic, 'nuc quality', 'nuc cnt')"
   ]
  },
  {
   "cell_type": "markdown",
   "metadata": {},
   "source": [
    "#### Статистика качества нуклеотидов при ошибке замены. "
   ]
  },
  {
   "cell_type": "code",
   "execution_count": 36,
   "metadata": {},
   "outputs": [
    {
     "data": {
      "image/png": "[encoded data removed]",
      "text/plain": [
       "<matplotlib.figure.Figure at 0x7f6d59fbf358>"
      ]
     },
     "metadata": {},
     "output_type": "display_data"
    }
   ],
   "source": [
    "showStatistic(qualityMisStatistic, 'nuc quality', 'nuc cnt')"
   ]
  },
  {
   "cell_type": "markdown",
   "metadata": {},
   "source": [
    "#### Статистика длин инделов в зависимости от длины гомополимерного участка. Строчки --- длина гомополимерного участка в референсе, столбцы --- в ридах. "
   ]
  },
  {
   "cell_type": "code",
   "execution_count": 36,
   "metadata": {},
   "outputs": [
    {
     "data": {
      "image/png": "[encoded data removed]",
      "text/plain": [
       "<matplotlib.figure.Figure at 0x7ff408516f60>"
      ]
     },
     "metadata": {},
     "output_type": "display_data"
    }
   ],
   "source": [
    "for i in range(3, 20):\n",
    "    xs = [i for i in range(0, 20)]\n",
    "    for j in range(len(inDelHomLenHist[i])):\n",
    "        if (inDelHomLenHist[i][j] != 0):\n",
    "            inDelHomLenHist[i][j] = log2(inDelHomLenHist[i][j])\n",
    "    plt.plot(xs, inDelHomLenHist[i], alpha = 0.5)\n",
    "\n",
    "plt.xlabel(\"homopolymer len in reads\")\n",
    "plt.ylabel(\"number\")\n",
    "plt.show()\n",
    "\n",
    "#df = pd.DataFrame(data=inDelHomLenHist, columns=[i for i in range(0, 20)], index=[i for i in range(0, 20)])\n",
    "#print(df)"
   ]
  },
  {
   "cell_type": "markdown",
   "metadata": {},
   "source": [
    "## 2. Bowtie2 "
   ]
  },
  {
   "cell_type": "code",
   "execution_count": null,
   "metadata": {},
   "outputs": [],
   "source": [
    "! bowtie2-build /Johnny/students/NGS/data/5/DH10B-K12.fasta dh10b"
   ]
  },
  {
   "cell_type": "code",
   "execution_count": 38,
   "metadata": {},
   "outputs": [
    {
     "name": "stdout",
     "output_type": "stream",
     "text": [
      "494921 reads; of these:\r\n",
      "  494921 (100.00%) were unpaired; of these:\r\n",
      "    10992 (2.22%) aligned 0 times\r\n",
      "    448286 (90.58%) aligned exactly 1 time\r\n",
      "    35643 (7.20%) aligned >1 times\r\n",
      "97.78% overall alignment rate\r\n"
     ]
    }
   ],
   "source": [
    "! bowtie2 -x dh10b -U /Johnny/students/NGS/data/5/B22-730.fastq > bowtie2_B22-730.sam"
   ]
  },
  {
   "cell_type": "code",
   "execution_count": 39,
   "metadata": {},
   "outputs": [],
   "source": [
    "cover, replaceMatrix, indelLensHist, qualityInsertStatistic, qualityMisStatistic, inDelHomLenHist = calculateStatistic(\"bowtie2_B22-730.sam\", \"/Johnny/students/NGS/data/5/DH10B-K12.fasta\", \"/Johnny/students/NGS/data/5/B22-730.fastq\")"
   ]
  },
  {
   "cell_type": "markdown",
   "metadata": {},
   "source": [
    "#### Покрытие генома"
   ]
  },
  {
   "cell_type": "code",
   "execution_count": 40,
   "metadata": {},
   "outputs": [
    {
     "name": "stdout",
     "output_type": "stream",
     "text": [
      "Average coverage: 33.9770160417811\n",
      "Coverage rate: 0.9997661187101191\n"
     ]
    },
    {
     "data": {
      "image/png": "[encoded data removed]",
      "text/plain": [
       "<matplotlib.figure.Figure at 0x7f6d4be35a58>"
      ]
     },
     "metadata": {},
     "output_type": "display_data"
    }
   ],
   "source": [
    "showCover(cover)"
   ]
  },
  {
   "cell_type": "markdown",
   "metadata": {},
   "source": [
    "#### Таблица частот замен/вставок/удалений"
   ]
  },
  {
   "cell_type": "code",
   "execution_count": 41,
   "metadata": {},
   "outputs": [
    {
     "name": "stdout",
     "output_type": "stream",
     "text": [
      "          A         C         G         T       N\n",
      "A  39880292     43074     48105     42916  201054\n",
      "C     36684  39355740     36340     51593   93275\n",
      "G     50841     37395  39229857     36274   92490\n",
      "T     42630     47025     43806  39854030  202711\n",
      "N    118517     73464     73634    118773       0\n"
     ]
    }
   ],
   "source": [
    "drawMatrix(replaceMatrix)"
   ]
  },
  {
   "cell_type": "markdown",
   "metadata": {},
   "source": [
    "#### Статистика длин инделов"
   ]
  },
  {
   "cell_type": "code",
   "execution_count": 42,
   "metadata": {},
   "outputs": [
    {
     "data": {
      "image/png": "[encoded data removed]",
      "text/plain": [
       "<matplotlib.figure.Figure at 0x7f6d4be35c18>"
      ]
     },
     "metadata": {},
     "output_type": "display_data"
    }
   ],
   "source": [
    "showStatistic(indelLensHist, 'indel LEN', 'indel cnt')"
   ]
  },
  {
   "cell_type": "markdown",
   "metadata": {},
   "source": [
    "#### Статистика качества нуклеотидов при ошибки вставке нуклеотидов. "
   ]
  },
  {
   "cell_type": "code",
   "execution_count": 43,
   "metadata": {},
   "outputs": [
    {
     "data": {
      "image/png": "[encoded data removed]",
      "text/plain": [
       "<matplotlib.figure.Figure at 0x7f6d3632e588>"
      ]
     },
     "metadata": {},
     "output_type": "display_data"
    }
   ],
   "source": [
    "showStatistic(qualityInsertStatistic, 'nuc quality', 'nuc cnt')"
   ]
  },
  {
   "cell_type": "markdown",
   "metadata": {},
   "source": [
    "#### Статистика качества нуклеотидов при ошибке замены. "
   ]
  },
  {
   "cell_type": "code",
   "execution_count": 44,
   "metadata": {},
   "outputs": [
    {
     "data": {
      "image/png": "[encoded data removed]",
      "text/plain": [
       "<matplotlib.figure.Figure at 0x7f6d366fa860>"
      ]
     },
     "metadata": {},
     "output_type": "display_data"
    }
   ],
   "source": [
    "showStatistic(qualityMisStatistic, 'nuc quality', 'nuc cnt')"
   ]
  },
  {
   "cell_type": "markdown",
   "metadata": {},
   "source": [
    "Качество у невыравненных или удаленных/вставленных нуклеотидов во данном случае выглядит ниже. "
   ]
  },
  {
   "cell_type": "markdown",
   "metadata": {},
   "source": [
    "#### Статистика длин инделов в зависимости от длины гомополимерного участка. Строчки --- длина гомополимерного участка в референсе, столбцы --- в ридах. "
   ]
  },
  {
   "cell_type": "code",
   "execution_count": 45,
   "metadata": {},
   "outputs": [
    {
     "name": "stdout",
     "output_type": "stream",
     "text": [
      "       0         1         2        3        4       5       6      7     8   \\\n",
      "0       0         0         0        0        0       0       0      0     0   \n",
      "1   55497  85978756    248063    35949    13607    5843    2841   1293   770   \n",
      "2     924    381207  22836801    97258     4853    1782     771    315   186   \n",
      "3      39     53684    136506  5446279    61592    1547     403    151   118   \n",
      "4       0     13570     10566    80743  1384770   43298    1114    238   128   \n",
      "5       2      4792      3212     4222    46806  423435   23453   1158   257   \n",
      "6       0      1503       950     1182     2015   25443  112606  10851  1120   \n",
      "7       0       408       285      296      395     991   11126  18047  4685   \n",
      "8       0       100        57       84      102     136     506   2221  2133   \n",
      "9       0        13        11        8        8      14      42     75    78   \n",
      "10      0         2         0        1        1       0       0      1     2   \n",
      "11      0         0         0        0        0       0       0      0     0   \n",
      "12      0         0         0        0        0       0       0      0     0   \n",
      "13      0         0         0        0        0       0       0      0     0   \n",
      "14      0         0         0        0        0       0       0      0     0   \n",
      "15      0         0         0        0        0       0       0      0     0   \n",
      "16      0         0         0        0        0       0       0      0     0   \n",
      "17      0         0         0        0        0       0       0      0     0   \n",
      "18      0         0         0        0        0       0       0      0     0   \n",
      "19      0         0         0        0        0       0       0      0     0   \n",
      "\n",
      "      9    10   11   12  13  14  15  16  17  18  19  \n",
      "0      0    0    0    0   0   0   0   0   0   0   0  \n",
      "1    600  258  161  111  46  43  17  13  67  47  85  \n",
      "2    139   83   32   31  20  16   8   3  19  19  32  \n",
      "3     68   30   23   12  12  10   6   4  13   5  18  \n",
      "4     67   46   38   26  19  19   8   9   5  12   7  \n",
      "5    129   54   46   27  16  20  16  14   5  10  14  \n",
      "6    350  104   50   34  17  14  12  14  12   5   5  \n",
      "7   1181  229   55   34   6   6   6   5   3   3   5  \n",
      "8   2365  450   96   32  12   3   2   1   3   1   1  \n",
      "9    228  208   65   15   9   1   0   0   1   0   0  \n",
      "10     9    9    9    2   2   0   0   0   0   0   0  \n",
      "11     0    0    0    0   0   0   0   0   0   0   0  \n",
      "12     0    0    0    0   0   0   0   0   0   0   0  \n",
      "13     0    0    0    0   0   0   0   0   0   0   0  \n",
      "14     0    0    0    0   0   0   0   0   0   0   0  \n",
      "15     0    0    0    0   0   0   0   0   0   0   0  \n",
      "16     0    0    0    0   0   0   0   0   0   0   0  \n",
      "17     0    0    0    0   0   0   0   0   0   0   0  \n",
      "18     0    0    0    0   0   0   0   0   0   0   0  \n",
      "19     0    0    0    0   0   0   0   0   0   0   0  \n"
     ]
    }
   ],
   "source": [
    "df = pd.DataFrame(data=inDelHomLenHist, columns=[i for i in range(0, 20)], index=[i for i in range(0, 20)])\n",
    "print(df)"
   ]
  },
  {
   "cell_type": "markdown",
   "metadata": {},
   "source": [
    "Глобально, при использование bowtie2 конечно видно, что результаты не такие как у bwa, но при этом они примерно такие же. Каких-то резких радикальных отличий я не вижу. \n",
    "\n",
    "Про длины гомополимеров. Все-таки чаще считывается на один нуклеотид меньше, чем на один больше. На случии со совсем маленькими гомополимерами лучше не смотреть. Там перекос не в ту сторону легко может объясняться например тем, что я при реализации не особо проверяла что в референсе и в риде на одном и том же месте стоит одна и та же аминокислота.  "
   ]
  }
 ],
 "metadata": {
  "kernelspec": {
   "display_name": "Python 3",
   "language": "python",
   "name": "python3"
  },
  "language_info": {
   "codemirror_mode": {
    "name": "ipython",
    "version": 3
   },
   "file_extension": ".py",
   "mimetype": "text/x-python",
   "name": "python",
   "nbconvert_exporter": "python",
   "pygments_lexer": "ipython3",
   "version": "3.6.3"
  }
 },
 "nbformat": 4,
 "nbformat_minor": 2
}

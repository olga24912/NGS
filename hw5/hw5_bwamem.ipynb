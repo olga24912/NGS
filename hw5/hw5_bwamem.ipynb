{
 "cells": [
  {
   "cell_type": "markdown",
   "metadata": {},
   "source": [
    "# BWA"
   ]
  },
  {
   "cell_type": "code",
   "execution_count": 1,
   "metadata": {
    "collapsed": true
   },
   "outputs": [],
   "source": [
    "import pysam\n",
    "import matplotlib.pyplot as plt\n",
    "%matplotlib inline\n",
    "from Bio import SeqIO\n",
    "import pandas as pd"
   ]
  },
  {
   "cell_type": "markdown",
   "metadata": {},
   "source": [
    "Покрытие генома (график, процент покрытого генома, среднее покрытие)"
   ]
  },
  {
   "cell_type": "code",
   "execution_count": 2,
   "metadata": {
    "collapsed": true
   },
   "outputs": [],
   "source": [
    "def updateCover(record, cover):\n",
    "    if not record.is_unmapped:\n",
    "            rpos = record.reference_start\n",
    "            rlen = record.reference_length\n",
    "            cover[rpos] += 1\n",
    "            cover[rpos + rlen] -= 1"
   ]
  },
  {
   "cell_type": "code",
   "execution_count": 3,
   "metadata": {
    "collapsed": true
   },
   "outputs": [],
   "source": [
    "def showCover(cover):\n",
    "    print(\"Average coverage: \" + str(sum(cover)/len(cover)))\n",
    "    print(\"Coverage rate: \" + str((len(cover) - cover.count(0))/len(cover)))\n",
    "    avcover = [0]*(len(cover)//1000 + 1)\n",
    "    x = [i for i in range(0, len(cover), 1000)]\n",
    "    for i in range(len(cover)):\n",
    "        avcover[i//1000] += cover[i]\n",
    "    for i in range(len(avcover) - 1):\n",
    "        avcover[i] /= 1000\n",
    "    avcover = avcover[:-1]\n",
    "    x = x[:len(avcover)]\n",
    "    \n",
    "    plt.plot(x, avcover)\n",
    "    plt.axis([0, (len(cover)//1000 - 1)*1000, 0, max(avcover)])\n",
    "    plt.xlabel('coord')\n",
    "    plt.ylabel('Coverage')\n",
    "    plt.show()"
   ]
  },
  {
   "cell_type": "markdown",
   "metadata": {},
   "source": [
    "Статистика длин инделов."
   ]
  },
  {
   "cell_type": "code",
   "execution_count": 4,
   "metadata": {
    "collapsed": true
   },
   "outputs": [],
   "source": [
    "def updateInDelLen(record, indelLensHist):\n",
    "    if record.is_unmapped:\n",
    "            return\n",
    "    cigar = record.cigartuples\n",
    "    for i in range(len(cigar)):\n",
    "            if (cigar[i][0] == 1 or cigar[i][0] == 2):\n",
    "                if (cigar[i][1] >= len(indelLensHist)):\n",
    "                    indelLensHist.extend([0]*(cigar[i][1] - len(indelLensHist) + 1))\n",
    "                    \n",
    "                indelLensHist[cigar[i][1]] += 1\n",
    "                "
   ]
  },
  {
   "cell_type": "markdown",
   "metadata": {},
   "source": [
    "Статистика длин инделов в завимости от длины гомополимерного участка (участок состоящий из одного типа нуклеотидов, например АААААААА). Мы фиксируем длину гомополимерного участка (пусть 5bp), и находим все гомополимеры такой длины в референсе. Дальше смотрим как участки этой длины прочитались секвенатором. Смотрим сколько раз прочиталось 3bp, 4bp, 5bp, 6bp и итд. Повторяем это для гомополимеров всех длин (например, от 3 до 20).\n"
   ]
  },
  {
   "cell_type": "code",
   "execution_count": 5,
   "metadata": {
    "collapsed": true
   },
   "outputs": [],
   "source": [
    "def calculateRefHomopol(ref, refHom):\n",
    "    afterCnt = [1]*len(ref)\n",
    "    for i in range(1, len(ref)):\n",
    "        if (ref[i] == ref[i - 1]):\n",
    "            refHom[i] = refHom[i - 1] + 1\n",
    "    for i in range(len(ref) - 2, 0, -1):\n",
    "        if (ref[i + 1] == ref[i]):\n",
    "            afterCnt[i] += afterCnt[i + 1]\n",
    "    for i in range(len(ref)):\n",
    "        refHom[i] += afterCnt[i]"
   ]
  },
  {
   "cell_type": "code",
   "execution_count": 6,
   "metadata": {
    "collapsed": true
   },
   "outputs": [],
   "source": [
    "def updateInDelHomopol(record, ref, refHom, inDelHomLenHist):\n",
    "    if record.is_unmapped:\n",
    "        return\n",
    "    cigar = record.cigartuples\n",
    "    rpos = record.reference_start\n",
    "    seq = record.query_sequence\n",
    "    seqHom = [0]*len(seq)\n",
    "    calculateRefHomopol(seq, seqHom)\n",
    "    spos = 0\n",
    "    mxSeqHom = 1\n",
    "    \n",
    "    for i in range(len(cigar)):\n",
    "        if (cigar[i][0] == 0 or cigar[i][0] == 7 or cigar[i][0] == 8):\n",
    "            cntl = cigar[i][1]\n",
    "            for j in range(cntl):\n",
    "                if (ref[rpos + j - 1] != ref[rpos + j]):\n",
    "                    inDelHomLenHist[refHom[rpos + j - 1]][mxSeqHom] += 1\n",
    "                    mxSeqHom = 0\n",
    "                mxSeqHom = max(mxSeqHom, seqHom[spos + j])\n",
    "            rpos += cigar[i][1]\n",
    "            spos += cigar[i][1]\n",
    "        elif (cigar[i][0] == 1 or cigar[i][0] == 4):\n",
    "            spos += cigar[i][1]\n",
    "        elif (cigar[i][0] == 2 or cigar[i][0] == 3):\n",
    "            cntl = cigar[i][1]\n",
    "            for j in range(cntl):\n",
    "                if (ref[rpos + j - 1] != ref[rpos + j]):\n",
    "                    inDelHomLenHist[refHom[rpos + j - 1]][mxSeqHom] += 1\n",
    "                    mxSeqHom = 0\n",
    "            rpos += cigar[i][1]\n",
    "    inDelHomLenHist[refHom[rpos - 1]][mxSeqHom] += 1"
   ]
  },
  {
   "cell_type": "markdown",
   "metadata": {},
   "source": [
    "Статистика качества нуклеотидов при ошибочно вставленном нуклеотиде"
   ]
  },
  {
   "cell_type": "code",
   "execution_count": 7,
   "metadata": {
    "collapsed": true
   },
   "outputs": [],
   "source": [
    "def updateQualityInsert(alig_record, read_record, qualityInsertStatistic):\n",
    "    if alig_record.is_unmapped:\n",
    "            return\n",
    "    readpos = 0\n",
    "    cigar = alig_record.cigartuples\n",
    "    for i in range(len(cigar)):\n",
    "        if (cigar[i][0] == 0 or cigar[i][0] == 7 or cigar[i][0] == 8):\n",
    "            readpos += cigar[i][1]\n",
    "        elif (cigar[i][0] == 1 or cigar[i][0] == 4):\n",
    "            for j in range(cigar[i][1]):\n",
    "                qualityInsertStatistic[read_record.letter_annotations[\"phred_quality\"][readpos + j]] += 1\n",
    "            readpos += cigar[i][1]\n",
    "    "
   ]
  },
  {
   "cell_type": "markdown",
   "metadata": {},
   "source": [
    "Статистика качества нуклеотидов при замене\n"
   ]
  },
  {
   "cell_type": "code",
   "execution_count": 8,
   "metadata": {
    "collapsed": true
   },
   "outputs": [],
   "source": [
    "def updateQualityMis(alig_record, read_record, qualityMisStatistic):\n",
    "    if alig_record.is_unmapped:\n",
    "            return\n",
    "    readpos = 0\n",
    "    cigar = alig_record.cigartuples\n",
    "    for i in range(len(cigar)):\n",
    "        if (cigar[i][0] == 8):\n",
    "            for j in range(cigar[i][1]):\n",
    "                qualityMisStatistic[read_record.letter_annotations[\"phred_quality\"][readpos + j]] += 1\n",
    "            readpos += cigar[i][1]\n",
    "        elif (cigar[i][0] == 0 or cigar[i][0] == 7 or cigar[i][0] == 1 or cigar[i][0] == 4):\n",
    "            readpos += cigar[i][1]"
   ]
  },
  {
   "cell_type": "markdown",
   "metadata": {},
   "source": [
    "Таблица частот замен/вставок/удалений"
   ]
  },
  {
   "cell_type": "code",
   "execution_count": 9,
   "metadata": {
    "collapsed": true
   },
   "outputs": [],
   "source": [
    "def getLetId(c, isrv):\n",
    "    #print(c)\n",
    "    let = [\"ACGTN\", \"TGCAN\"]\n",
    "    for i in range(5):\n",
    "        if (let[isrv][i] == c):\n",
    "            return i\n",
    "\n",
    "def updateReplaceMatrix(record, ref, rmat):\n",
    "        let = \"ACGTN\"\n",
    "        if record.is_unmapped:\n",
    "            return\n",
    "        \n",
    "        cigar = record.cigartuples\n",
    "        rpos = record.reference_start\n",
    "        seq = record.query_sequence\n",
    "        spos = 0\n",
    "        for i in range(len(cigar)):\n",
    "            if (cigar[i][0] == 0 or cigar[i][0] == 7 or cigar[i][0] == 8):\n",
    "                cntl = cigar[i][1]\n",
    "                isrv = 0#record.is_reverse\n",
    "                for j in range(cntl):\n",
    "                    rmat[getLetId(seq[spos + j], isrv)][getLetId(ref[rpos + j], 0)] += 1\n",
    "                rpos += cigar[i][1]\n",
    "                spos += cigar[i][1]\n",
    "            elif (cigar[i][0] == 1 or cigar[i][0] == 4):\n",
    "                spos += cigar[i][1]\n",
    "            elif (cigar[i][0] == 2 or cigar[i][0] == 3):\n",
    "                rpos += cigar[i][1]\n",
    "\n",
    "def drawMatrix(matrix):\n",
    "    df = pd.DataFrame(data=matrix, columns=['A', 'C', 'G', 'T', 'N'], index=['A', 'C', 'G', 'T', 'N'])\n",
    "    print(df)"
   ]
  },
  {
   "cell_type": "markdown",
   "metadata": {},
   "source": [
    "Подсчет статистик для ридов"
   ]
  },
  {
   "cell_type": "code",
   "execution_count": 10,
   "metadata": {
    "collapsed": true
   },
   "outputs": [],
   "source": [
    "def calculateStatistic(filename, reffilename, readsfilename):\n",
    "    for rec in SeqIO.parse(reffilename, \"fasta\"): \n",
    "        ref = rec.seq \n",
    "    \n",
    "    record_dict = SeqIO.to_dict(SeqIO.parse(readsfilename, \"fastq\"))\n",
    "    \n",
    "    samfile = pysam.AlignmentFile(filename, \"r\")\n",
    "    reflen = samfile.header.get(\"SQ\")[0]['LN']\n",
    "    \n",
    "    cover = [0]*(reflen + 1)\n",
    "    replaceMatrix = [[0]*5 for i in range(5)]\n",
    "    inDelHomLenHist = [[0]*20 for i in range(20)]\n",
    "    indelLensHist = [0]*10\n",
    "    qualityInsertStatistic = [0]*66\n",
    "    qualityMisStatistic = [0]*66\n",
    "    refHom = [0]*len(ref)\n",
    "    calculateRefHomopol(ref, refHom)\n",
    "    \n",
    "    for record in samfile.fetch():\n",
    "        updateCover(record, cover)\n",
    "        updateReplaceMatrix(record, ref, replaceMatrix)\n",
    "        updateInDelLen(record, indelLensHist)\n",
    "        updateQualityInsert(record, record_dict[record.query_name], qualityInsertStatistic)\n",
    "        updateQualityMis(record, record_dict[record.query_name], qualityMisStatistic)\n",
    "        updateInDelHomopol(record, ref, refHom, inDelHomLenHist)\n",
    "        \n",
    "    for i in range(1, reflen):\n",
    "        cover[i] += cover[i - 1]\n",
    "    return cover, replaceMatrix, indelLensHist, qualityInsertStatistic, qualityMisStatistic, inDelHomLenHist"
   ]
  },
  {
   "cell_type": "code",
   "execution_count": 11,
   "metadata": {
    "collapsed": true
   },
   "outputs": [],
   "source": [
    "def showStatistic(hist, xlabel, ylabel):\n",
    "    xs = [i for i in range(0, len(hist))]\n",
    "    \n",
    "    plt.plot(xs, hist, 'bo')\n",
    "    plt.xlabel(xlabel)\n",
    "    plt.ylabel(ylabel)\n",
    "    plt.show() "
   ]
  },
  {
   "cell_type": "markdown",
   "metadata": {},
   "source": [
    "## 1.  BWA"
   ]
  },
  {
   "cell_type": "code",
   "execution_count": 2,
   "metadata": {},
   "outputs": [
    {
     "name": "stdout",
     "output_type": "stream",
     "text": [
      "[bwa_index] Pack FASTA... 0.05 sec\n",
      "[bwa_index] Construct BWT for the packed sequence...\n",
      "[bwa_index] 1.64 seconds elapse.\n",
      "[bwa_index] Update BWT... 0.05 sec\n",
      "[bwa_index] Pack forward-only FASTA... 0.06 sec\n",
      "[bwa_index] Construct SA from BWT and Occ... 0.78 sec\n",
      "[main] Version: 0.7.17-r1188\n",
      "[main] CMD: /home/olga/bio-project/soft/bwa-0.7.17/bwa index DH10B-K12.fasta\n",
      "[main] Real time: 3.236 sec; CPU: 2.584 sec\n"
     ]
    }
   ],
   "source": [
    "! ~/bio-project/soft/bwa-0.7.17/bwa index DH10B-K12.fasta"
   ]
  },
  {
   "cell_type": "code",
   "execution_count": 5,
   "metadata": {},
   "outputs": [
    {
     "name": "stdout",
     "output_type": "stream",
     "text": [
      "[M::bwa_idx_load_from_disk] read 0 ALT contigs\n",
      "[M::process] read 250 sequences (82521 bp)...\n",
      "[M::mem_process_seqs] Processed 250 reads in 0.052 CPU sec, 0.056 real sec\n",
      "[main] Version: 0.7.17-r1188\n",
      "[main] CMD: /home/olga/bio-project/soft/bwa-0.7.17/bwa mem DH10B-K12.fasta tst.fastq\n",
      "[main] Real time: 0.163 sec; CPU: 0.056 sec\n"
     ]
    }
   ],
   "source": [
    "! ~/bio-project/soft/bwa-0.7.17/bwa mem DH10B-K12.fasta tst.fastq > bwa_tst.sam"
   ]
  },
  {
   "cell_type": "code",
   "execution_count": 12,
   "metadata": {
    "collapsed": true
   },
   "outputs": [],
   "source": [
    "cover, replaceMatrix, indelLensHist, qualityInsertStatistic, qualityMisStatistic, inDelHomLenHist = calculateStatistic(\"bwa_tst.sam\", \"DH10B-K12.fasta\", \"tst.fastq\")"
   ]
  },
  {
   "cell_type": "markdown",
   "metadata": {},
   "source": [
    "    * Покрытие генома"
   ]
  },
  {
   "cell_type": "code",
   "execution_count": 44,
   "metadata": {
    "scrolled": true
   },
   "outputs": [
    {
     "name": "stdout",
     "output_type": "stream",
     "text": [
      "Average coverage: 0.017378702889244833\n",
      "Coverage rate: 0.0005778745739028598\n"
     ]
    },
    {
     "data": {
      "image/png": "[encoded data removed]",
      "text/plain": [
       "<matplotlib.figure.Figure at 0x7fb4ba990eb8>"
      ]
     },
     "metadata": {},
     "output_type": "display_data"
    }
   ],
   "source": [
    "showCover(cover)"
   ]
  },
  {
   "cell_type": "markdown",
   "metadata": {},
   "source": [
    "    * Таблица частот замен/вставок/удалений"
   ]
  },
  {
   "cell_type": "code",
   "execution_count": 45,
   "metadata": {
    "scrolled": true
   },
   "outputs": [
    {
     "name": "stdout",
     "output_type": "stream",
     "text": [
      "       A      C      G      T  N\n",
      "A  20246     10      6      7  0\n",
      "C      5  20382      9      6  0\n",
      "G     13      5  21166      6  0\n",
      "T      7      6      3  19364  0\n",
      "N      0      0      0      0  0\n"
     ]
    }
   ],
   "source": [
    "drawMatrix(replaceMatrix)"
   ]
  },
  {
   "cell_type": "markdown",
   "metadata": {},
   "source": [
    "    * Статистика длин инделов"
   ]
  },
  {
   "cell_type": "code",
   "execution_count": 53,
   "metadata": {
    "scrolled": true
   },
   "outputs": [
    {
     "data": {
      "image/png": "[encoded data removed]",
      "text/plain": [
       "<matplotlib.figure.Figure at 0x7fb4b4b6fdd8>"
      ]
     },
     "metadata": {},
     "output_type": "display_data"
    }
   ],
   "source": [
    "showStatistic(indelLensHist, 'indel LEN', 'indel cnt')"
   ]
  },
  {
   "cell_type": "markdown",
   "metadata": {},
   "source": [
    "    * Статистика качества нуклеотидов при ошибки вставке нуклеотидов. "
   ]
  },
  {
   "cell_type": "code",
   "execution_count": 59,
   "metadata": {
    "scrolled": true
   },
   "outputs": [
    {
     "data": {
      "image/png": "[encoded data removed]",
      "text/plain": [
       "<matplotlib.figure.Figure at 0x7fb4b495bb38>"
      ]
     },
     "metadata": {},
     "output_type": "display_data"
    }
   ],
   "source": [
    "showStatistic(qualityInsertStatistic, 'nuc quality', 'nuc cnt')"
   ]
  },
  {
   "cell_type": "markdown",
   "metadata": {},
   "source": [
    "    * Статистика качества нуклеотидов при ошибке замены. "
   ]
  },
  {
   "cell_type": "code",
   "execution_count": 60,
   "metadata": {},
   "outputs": [
    {
     "data": {
      "image/png": "[encoded data removed]",
      "text/plain": [
       "<matplotlib.figure.Figure at 0x7fb4b495be48>"
      ]
     },
     "metadata": {},
     "output_type": "display_data"
    }
   ],
   "source": [
    "showStatistic(qualityMisStatistic, 'nuc quality', 'nuc cnt')"
   ]
  },
  {
   "cell_type": "markdown",
   "metadata": {},
   "source": [
    "    * Статистика длин инделов в зависимости от длины гомополимерного участка. Строчки --- длина гомополимерного участка в референсе, столбцы --- в ридах. "
   ]
  },
  {
   "cell_type": "code",
   "execution_count": 13,
   "metadata": {},
   "outputs": [
    {
     "name": "stdout",
     "output_type": "stream",
     "text": [
      "    0      1      2     3    4    5   6   7   8   9   10  11  12  13  14  15  \\\n",
      "0    0      0      0     0    0    0   0   0   0   0   0   0   0   0   0   0   \n",
      "1   34  43013     99     7    2    1   0   0   0   0   1   0   1   0   0   0   \n",
      "2    0    154  12718    43    0    0   3   0   0   0   0   0   0   0   0   0   \n",
      "3    0     23     49  2328   22    0   0   0   0   0   0   0   0   0   0   0   \n",
      "4    0      6      4    37  609   16   0   0   0   0   0   0   0   0   0   0   \n",
      "5    0      2      1     5   44  285  13   0   0   0   0   0   0   0   0   0   \n",
      "6    0      0      0     0    0   16  65   8   2   0   0   0   0   0   0   0   \n",
      "7    0      0      0     0    0    1  23  22   1   1   0   0   0   0   0   0   \n",
      "8    0      0      0     0    0    0   0   0   0   0   0   0   0   0   0   0   \n",
      "9    0      3      0     0    1    0   1   1   1   8  11   6   3   1   0   0   \n",
      "10   0      0      0     0    0    0   0   0   0   0   0   0   0   0   0   0   \n",
      "11   0      0      0     0    0    0   0   0   0   0   0   0   0   0   0   0   \n",
      "12   0      0      0     0    0    0   0   0   0   0   0   0   0   0   0   0   \n",
      "13   0      0      0     0    0    0   0   0   0   0   0   0   0   0   0   0   \n",
      "14   0      0      0     0    0    0   0   0   0   0   0   0   0   0   0   0   \n",
      "15   0      0      0     0    0    0   0   0   0   0   0   0   0   0   0   0   \n",
      "16   0      0      0     0    0    0   0   0   0   0   0   0   0   0   0   0   \n",
      "17   0      0      0     0    0    0   0   0   0   0   0   0   0   0   0   0   \n",
      "18   0      0      0     0    0    0   0   0   0   0   0   0   0   0   0   0   \n",
      "19   0      0      0     0    0    0   0   0   0   0   0   0   0   0   0   0   \n",
      "\n",
      "    16  17  18  19  \n",
      "0    0   0   0   0  \n",
      "1    0   0   0   0  \n",
      "2    0   0   0   0  \n",
      "3    0   0   0   0  \n",
      "4    0   0   0   0  \n",
      "5    0   0   0   0  \n",
      "6    0   0   0   0  \n",
      "7    0   0   0   0  \n",
      "8    0   0   0   0  \n",
      "9    0   0   0   0  \n",
      "10   0   0   0   0  \n",
      "11   0   0   0   0  \n",
      "12   0   0   0   0  \n",
      "13   0   0   0   0  \n",
      "14   0   0   0   0  \n",
      "15   0   0   0   0  \n",
      "16   0   0   0   0  \n",
      "17   0   0   0   0  \n",
      "18   0   0   0   0  \n",
      "19   0   0   0   0  \n"
     ]
    }
   ],
   "source": [
    "df = pd.DataFrame(data=inDelHomLenHist, columns=[i for i in range(0, 20)], index=[i for i in range(0, 20)])\n",
    "print(df)"
   ]
  },
  {
   "cell_type": "markdown",
   "metadata": {},
   "source": [
    "## 2. Bowtie2 \n",
    "Построить индекс, запустить Bowtie2 на тестовых данных, определить процент приложившихся ридов. "
   ]
  },
  {
   "cell_type": "code",
   "execution_count": null,
   "metadata": {
    "collapsed": true
   },
   "outputs": [],
   "source": [
    "! bowtie2-build /Johnny/students/NGS/data/4/E.coli/MG1655-K12.first10K.fasta ecoli10K"
   ]
  },
  {
   "cell_type": "code",
   "execution_count": 3,
   "metadata": {},
   "outputs": [
    {
     "name": "stdout",
     "output_type": "stream",
     "text": [
      "28160 reads; of these:\r\n",
      "  28160 (100.00%) were paired; of these:\r\n",
      "    0 (0.00%) aligned concordantly 0 times\r\n",
      "    28160 (100.00%) aligned concordantly exactly 1 time\r\n",
      "    0 (0.00%) aligned concordantly >1 times\r\n",
      "    ----\r\n",
      "    0 pairs aligned concordantly 0 times; of these:\r\n",
      "      0 (0.00%) aligned discordantly 1 time\r\n",
      "    ----\r\n",
      "    0 pairs aligned 0 times concordantly or discordantly; of these:\r\n",
      "      0 mates make up the pairs; of these:\r\n",
      "        0 (0.00%) aligned 0 times\r\n",
      "        0 (0.00%) aligned exactly 1 time\r\n",
      "        0 (0.00%) aligned >1 times\r\n",
      "100.00% overall alignment rate\r\n"
     ]
    }
   ],
   "source": [
    "! bowtie2 --fr -x ecoli10K -1 /Johnny/students/NGS/data/4/E.coli/test_1.fastq -2 /Johnny/students/NGS/data/4/E.coli/test_2.fastq > test.sam"
   ]
  },
  {
   "cell_type": "code",
   "execution_count": null,
   "metadata": {
    "collapsed": true
   },
   "outputs": [],
   "source": [
    "! bowtie2-build /Johnny/students/NGS/data/4/E.coli/MG1655-K12.fasta ecoli"
   ]
  },
  {
   "cell_type": "code",
   "execution_count": 2,
   "metadata": {},
   "outputs": [
    {
     "name": "stdout",
     "output_type": "stream",
     "text": [
      "14196256 reads; of these:\r\n",
      "  14196256 (100.00%) were paired; of these:\r\n",
      "    1356988 (9.56%) aligned concordantly 0 times\r\n",
      "    12398883 (87.34%) aligned concordantly exactly 1 time\r\n",
      "    440385 (3.10%) aligned concordantly >1 times\r\n",
      "    ----\r\n",
      "    1356988 pairs aligned concordantly 0 times; of these:\r\n",
      "      538532 (39.69%) aligned discordantly 1 time\r\n",
      "    ----\r\n",
      "    818456 pairs aligned 0 times concordantly or discordantly; of these:\r\n",
      "      1636912 mates make up the pairs; of these:\r\n",
      "        1288294 (78.70%) aligned 0 times\r\n",
      "        297803 (18.19%) aligned exactly 1 time\r\n",
      "        50815 (3.10%) aligned >1 times\r\n",
      "95.46% overall alignment rate\r\n"
     ]
    }
   ],
   "source": [
    "! bowtie2 --fr -x ecoli -1 /Johnny/students/NGS/data/4/E.coli/ecoli_mda_lane1_left.fastq.00.cor.fastq -2 /Johnny/students/NGS/data/4/E.coli/ecoli_mda_lane1_right.fastq.00.cor.fastq > ecoli_mda.sam"
   ]
  },
  {
   "cell_type": "code",
   "execution_count": 4,
   "metadata": {},
   "outputs": [
    {
     "name": "stdout",
     "output_type": "stream",
     "text": [
      "14214324 reads; of these:\r\n",
      "  14214324 (100.00%) were paired; of these:\r\n",
      "    121344 (0.85%) aligned concordantly 0 times\r\n",
      "    13720474 (96.53%) aligned concordantly exactly 1 time\r\n",
      "    372506 (2.62%) aligned concordantly >1 times\r\n",
      "    ----\r\n",
      "    121344 pairs aligned concordantly 0 times; of these:\r\n",
      "      3368 (2.78%) aligned discordantly 1 time\r\n",
      "    ----\r\n",
      "    117976 pairs aligned 0 times concordantly or discordantly; of these:\r\n",
      "      235952 mates make up the pairs; of these:\r\n",
      "        144142 (61.09%) aligned 0 times\r\n",
      "        86107 (36.49%) aligned exactly 1 time\r\n",
      "        5703 (2.42%) aligned >1 times\r\n",
      "99.49% overall alignment rate\r\n"
     ]
    }
   ],
   "source": [
    "! bowtie2 --fr -x ecoli -1 /Johnny/students/NGS/data/4/E.coli/s_6_1.fastq -2 /Johnny/students/NGS/data/4/E.coli/s_6_2.fastq > s6.sam"
   ]
  }
 ],
 "metadata": {
  "kernelspec": {
   "display_name": "Python 3",
   "language": "python",
   "name": "python3"
  },
  "language_info": {
   "codemirror_mode": {
    "name": "ipython",
    "version": 3
   },
   "file_extension": ".py",
   "mimetype": "text/x-python",
   "name": "python",
   "nbconvert_exporter": "python",
   "pygments_lexer": "ipython3",
   "version": "3.6.1"
  }
 },
 "nbformat": 4,
 "nbformat_minor": 2
}

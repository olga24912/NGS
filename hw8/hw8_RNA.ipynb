{
 "cells": [
  {
   "cell_type": "markdown",
   "metadata": {},
   "source": [
    "# Анализ РНК"
   ]
  },
  {
   "cell_type": "markdown",
   "metadata": {},
   "source": [
    "### 1. Выравнивание ридов RNA-Seq"
   ]
  },
  {
   "cell_type": "code",
   "execution_count": null,
   "metadata": {},
   "outputs": [],
   "source": [
    "! /Molly/chernikova/soft/STAR --runThreadN 20 --runMode genomeGenerate --genomeDir genomeDir/ --genomeFastaFiles /Johnny/students/NGS/data/8/ref.fa --sjdbGTFfile /Johnny/students/NGS/data/8/genes.gtf"
   ]
  },
  {
   "cell_type": "code",
   "execution_count": null,
   "metadata": {},
   "outputs": [],
   "source": [
    "! /Molly/chernikova/soft/STAR --runThreadN 20 --genomeDir genomeDir/ --readFilesIn /Johnny/students/NGS/data/8/SRR453566_1.fastq /Johnny/students/NGS/data/8/SRR453566_2.fastq"
   ]
  },
  {
   "cell_type": "markdown",
   "metadata": {},
   "source": [
    "### 2. Оценка количества экспрессирующихся генов. "
   ]
  },
  {
   "cell_type": "code",
   "execution_count": 2,
   "metadata": {},
   "outputs": [],
   "source": [
    "import pysam\n",
    "import matplotlib.pyplot as plt\n",
    "%matplotlib inline\n",
    "from Bio import SeqIO\n",
    "from BCBio import GFF\n",
    "from Bio.SeqRecord import SeqRecord\n",
    "from Bio.SeqFeature import SeqFeature, FeatureLocation\n",
    "import pandas as pd"
   ]
  },
  {
   "cell_type": "code",
   "execution_count": 3,
   "metadata": {},
   "outputs": [],
   "source": [
    "def coverByRead(record, refCover):\n",
    "    if (record.is_unmapped):\n",
    "        return\n",
    "    rpos = record.reference_start\n",
    "    cigar = record.cigartuples\n",
    "    rname = record.reference_name\n",
    "    \n",
    "    for i in range(len(cigar)):\n",
    "        if (cigar[i][0] == 0 or cigar[i][0] == 7 or cigar[i][0] == 8):\n",
    "            for j in range(cigar[i][1]):\n",
    "                refCover[rname][rpos + j] = 1\n",
    "            rpos += cigar[i][1]\n",
    "        elif (cigar[i][0] == 2 or cigar[i][0] == 3):\n",
    "            rpos += cigar[i][1]"
   ]
  },
  {
   "cell_type": "code",
   "execution_count": 4,
   "metadata": {},
   "outputs": [],
   "source": [
    "def calcRefCover(refFile, samfile):\n",
    "    refCover = dict()\n",
    "    for rec in SeqIO.parse(refFile, \"fasta\"):\n",
    "        refCover[rec.id] = [0]*len(rec.seq)\n",
    "    sam = pysam.AlignmentFile(samfile, \"r\")\n",
    "    \n",
    "    for record in sam.fetch():\n",
    "        coverByRead(record, refCover)\n",
    "    return refCover"
   ]
  },
  {
   "cell_type": "code",
   "execution_count": 5,
   "metadata": {},
   "outputs": [],
   "source": [
    "refCover = calcRefCover(\"/Johnny/students/NGS/data/8/ref.fa\", \"Aligned.out.sam\")"
   ]
  },
  {
   "cell_type": "code",
   "execution_count": 39,
   "metadata": {},
   "outputs": [],
   "source": [
    "def main(gtfFile):\n",
    "    cntGene = 0\n",
    "    cntCoverGene = 0\n",
    "    handle = open(gtfFile)\n",
    "    lines = handle.readlines()\n",
    "    \n",
    "    exons = dict()\n",
    "    for line in lines:\n",
    "        if \"\\texon\\t\" in line:\n",
    "            spl = line.split('\\t')\n",
    "            bg = spl[3]\n",
    "            ed = spl[4]\n",
    "            chrm = spl[0]\n",
    "            geneid = spl[-1].split(';')[0][9:-1]\n",
    "            if (geneid not in exons):\n",
    "                exons[geneid] = []\n",
    "            exons[geneid].append((chrm, int(bg), int(ed)))\n",
    "    for key in exons:\n",
    "        cntGene += 1\n",
    "        cntpos = 0\n",
    "        cntCoverPos = 0\n",
    "        for ex in exons[key]:\n",
    "            for i in range(ex[1], ex[2]):\n",
    "                cntpos += 1\n",
    "                if (refCover[ex[0]][i]):\n",
    "                    cntCoverPos += 1\n",
    "        if (cntCoverPos * 100 > 95 * cntpos):\n",
    "            cntCoverGene += 1\n",
    "    \n",
    "    handle.close()\n",
    "    print(cntCoverGene, cntGene, cntCoverGene/cntGene)"
   ]
  },
  {
   "cell_type": "code",
   "execution_count": 40,
   "metadata": {},
   "outputs": [
    {
     "name": "stdout",
     "output_type": "stream",
     "text": [
      "6273 7126 0.8802975021049677\n"
     ]
    }
   ],
   "source": [
    "main(\"/Johnny/students/NGS/data/8/genes.gtf\")"
   ]
  },
  {
   "cell_type": "markdown",
   "metadata": {},
   "source": [
    "Из 7126 генов, хоть как-то покрыто 6273 из них. То есть 95% процента кодирующей части покрыто, но при этом ничего не известно про покрытие, вполне может быть что среднее покрытие равно 1. "
   ]
  },
  {
   "cell_type": "markdown",
   "metadata": {},
   "source": [
    "### 3. Сбока de novo"
   ]
  },
  {
   "cell_type": "markdown",
   "metadata": {},
   "source": [
    "Запуск Trinity"
   ]
  },
  {
   "cell_type": "code",
   "execution_count": null,
   "metadata": {},
   "outputs": [],
   "source": [
    "! /Molly/chernikova/soft/Trinity/Trinity --seqType fq --left /Johnny/students/NGS/data/8/SRR453566_1.fastq --right /Johnny/students/NGS/data/8/SRR453566_2.fastq --CPU 6 --max_memory 20G"
   ]
  },
  {
   "cell_type": "markdown",
   "metadata": {},
   "source": [
    "Запуск rnaQUAST"
   ]
  },
  {
   "cell_type": "code",
   "execution_count": null,
   "metadata": {},
   "outputs": [],
   "source": [
    "! python2 /Molly/chernikova/soft/rnaQUAST-1.5.1/rnaQUAST.py --transcripts trinity_out_dir/Trinity.fasta --reference /Johnny/students/NGS/data/8/ref.fa --gtf /Johnny/students/NGS/data/8/genes.gtf -o ./out/ "
   ]
  },
  {
   "cell_type": "markdown",
   "metadata": {},
   "source": [
    "Из 7126 генов на 95% покрыто только 3909 генов(55%).  "
   ]
  }
 ],
 "metadata": {
  "kernelspec": {
   "display_name": "Python 3",
   "language": "python",
   "name": "python3"
  },
  "language_info": {
   "codemirror_mode": {
    "name": "ipython",
    "version": 3
   },
   "file_extension": ".py",
   "mimetype": "text/x-python",
   "name": "python",
   "nbconvert_exporter": "python",
   "pygments_lexer": "ipython3",
   "version": "3.6.3"
  }
 },
 "nbformat": 4,
 "nbformat_minor": 2
}
